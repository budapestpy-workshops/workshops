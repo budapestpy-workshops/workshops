{
 "cells": [
  {
   "cell_type": "code",
   "execution_count": 1,
   "metadata": {},
   "outputs": [],
   "source": [
    "SampleData = {'SalesChannel':[] ,'AgentCategory':[] ,'Product':[] ,'Premium':[]}\n",
    "\n",
    "Dimensions = {  'SalesChannel':['First Channel','Second Channel','Third Channel'],\n",
    "                'AgentCategory':['Cat1', 'Cat2'],\n",
    "                'Product': ['Product1', 'Product2', 'Product3'],\n",
    "                'Premium':[1000,30000]\n",
    "             }"
   ]
  },
  {
   "cell_type": "code",
   "execution_count": 2,
   "metadata": {},
   "outputs": [
    {
     "name": "stdout",
     "output_type": "stream",
     "text": [
      "   SalesChannel  AgentCategory  Product  Premium_from  Premium_to  Commission  \\\n",
      "0             0              0        0          1000        5000          10   \n",
      "1             0              0        0          5000       15000          12   \n",
      "2             0              0        0         15000       30000          14   \n",
      "3             0              0        1          1000       20000          20   \n",
      "4             0              0        1         20000       30000          25   \n",
      "\n",
      "  Attributes  \n",
      "0  [0, 0, 0]  \n",
      "1  [0, 0, 0]  \n",
      "2  [0, 0, 0]  \n",
      "3  [0, 0, 1]  \n",
      "4  [0, 0, 1]  \n"
     ]
    }
   ],
   "source": [
    "import numpy as np\n",
    "import pandas as pd\n",
    "\n",
    "#loading the features  \n",
    "f_in = pd.read_csv('CommRule.csv')\n",
    "\n",
    "#change the values to the dimension index\n",
    "for i in f_in:\n",
    "    if i in ('SalesChannel','AgentCategory','Product'):\n",
    "        change = np.array( range(0,len(Dimensions[i]))) \n",
    "        f_in.replace(Dimensions[i], change, inplace= True)\n",
    "        \n",
    "#fill the attribute array for processing\n",
    "tdf = pd.DataFrame(columns = ['SalesChannel','AgentCategory','Product','Premium','Commission'])\n",
    "\n",
    "f_attr = []\n",
    "for f_index, f_row in f_in.iterrows():\n",
    "    f_attr.append([f_row['SalesChannel'], f_row['AgentCategory'], f_row['Product']])\n",
    "     \n",
    "f_in['Attributes'] = f_attr\n",
    "    \n",
    "print(f_in[0:5])\n",
    "    "
   ]
  },
  {
   "cell_type": "code",
   "execution_count": 3,
   "metadata": {},
   "outputs": [
    {
     "name": "stdout",
     "output_type": "stream",
     "text": [
      "  SalesChannel AgentCategory Product Premium Commission\n",
      "0            0             0       0    1000         10\n",
      "1            0             0       0    5000         10\n",
      "2            0             0       0    5000         12\n",
      "3            0             0       0   15000         12\n",
      "4            0             0       0   15000         14\n",
      "5            0             0       0   30000         14\n",
      "6            0             0       1    1000         20\n",
      "7            0             0       1   20000         20\n",
      "8            0             0       1   20000         25\n",
      "9            0             0       1   30000         25\n"
     ]
    }
   ],
   "source": [
    "train_features = pd.DataFrame(columns = ['SalesChannel','AgentCategory','Product','Premium','Commission'])\n",
    "\n",
    "for f_index, f_row in f_in.iterrows():  \n",
    "    from_row =                               \\\n",
    "        {                                       \\\n",
    "        'SalesChannel': f_row['SalesChannel'],  \\\n",
    "        'AgentCategory':f_row['AgentCategory'], \\\n",
    "        'Product':      f_row['Product'],       \\\n",
    "        'Premium':      f_row['Premium_from'],  \\\n",
    "        'Commission':   f_row['Commission'],    \\\n",
    "        }\n",
    "    train_features = train_features.append(from_row, ignore_index = True)\n",
    "    to_row =                               \\\n",
    "        {                                       \\\n",
    "        'SalesChannel': f_row['SalesChannel'],  \\\n",
    "        'AgentCategory':f_row['AgentCategory'], \\\n",
    "        'Product':      f_row['Product'],       \\\n",
    "        'Premium':      f_row['Premium_to'],  \\\n",
    "        'Commission':   f_row['Commission'],    \\\n",
    "        }\n",
    "\n",
    "    train_features = train_features.append(to_row, ignore_index = True)\n",
    "print(train_features[0:10])"
   ]
  },
  {
   "cell_type": "code",
   "execution_count": 4,
   "metadata": {},
   "outputs": [
    {
     "name": "stdout",
     "output_type": "stream",
     "text": [
      "0    10\n",
      "1    10\n",
      "2    12\n",
      "3    12\n",
      "4    14\n",
      "5    14\n",
      "6    20\n",
      "7    20\n",
      "8    25\n",
      "9    25\n",
      "Name: Commission, dtype: object\n"
     ]
    }
   ],
   "source": [
    "train_labels = train_features['Commission']\n",
    "print(train_labels[0:10])"
   ]
  },
  {
   "cell_type": "code",
   "execution_count": 5,
   "metadata": {},
   "outputs": [
    {
     "name": "stdout",
     "output_type": "stream",
     "text": [
      "  SalesChannel AgentCategory Product Premium\n",
      "0            0             0       0    1000\n",
      "1            0             0       0    5000\n",
      "2            0             0       0    5000\n",
      "3            0             0       0   15000\n",
      "4            0             0       0   15000\n",
      "5            0             0       0   30000\n",
      "6            0             0       1    1000\n",
      "7            0             0       1   20000\n",
      "8            0             0       1   20000\n",
      "9            0             0       1   30000\n"
     ]
    }
   ],
   "source": [
    "train_features = train_features.drop('Commission', axis = 1)\n",
    "\n",
    "feature_list = list(train_features.columns)\n",
    "\n",
    "print(train_features[0:10])"
   ]
  },
  {
   "cell_type": "code",
   "execution_count": 6,
   "metadata": {},
   "outputs": [],
   "source": [
    "# Import the model we are using\n",
    "from sklearn.ensemble import RandomForestRegressor\n",
    "\n",
    "# Instantiate model with 1000 decision trees\n",
    "rf = RandomForestRegressor(n_estimators = 1000, random_state = 42)\n",
    "\n",
    "# Train the model on training data\n",
    "rf.fit(train_features, train_labels);"
   ]
  },
  {
   "cell_type": "code",
   "execution_count": 7,
   "metadata": {},
   "outputs": [],
   "source": [
    "import random\n",
    "\n",
    "def SampleGen(RangeMin, RangeMax, SampleSize):\n",
    "    a = []\n",
    "    for i in range(SampleSize):\n",
    "        a.append( int( random.uniform(RangeMin,RangeMax) )) \n",
    "    return a"
   ]
  },
  {
   "cell_type": "code",
   "execution_count": 8,
   "metadata": {
    "scrolled": true
   },
   "outputs": [
    {
     "name": "stdout",
     "output_type": "stream",
     "text": [
      "     SalesChannel  AgentCategory  Product  Premium\n",
      "0               1              0        0    22835\n",
      "1               2              1        2     8092\n",
      "2               1              1        1     4530\n",
      "3               1              0        1    17577\n",
      "4               0              1        2     6770\n",
      "..            ...            ...      ...      ...\n",
      "995             2              0        2    24882\n",
      "996             2              0        2    21044\n",
      "997             1              0        2    26804\n",
      "998             2              0        1    29115\n",
      "999             0              1        2    27868\n",
      "\n",
      "[1000 rows x 4 columns]\n"
     ]
    }
   ],
   "source": [
    "#https://docs.python.org/3/library/random.html\n",
    "\n",
    "SampleSize = 1000\n",
    "\n",
    "for i in Dimensions:\n",
    "    if i in ('SalesChannel','AgentCategory','Product'):\n",
    "        SampleData[i] = SampleGen(0,len( Dimensions[i] ),SampleSize)\n",
    "    if i in ('Premium'):\n",
    "        SampleData[i] = SampleGen(Dimensions[i][0],Dimensions[i][1],SampleSize)\n",
    "\n",
    "#df = pd.DataFrame(data=[[1, 2, 3], [4, 5, 6], [7, 8, 9]], index= [2, 'A', 4], columns=['One', 'Two', 'Three'])\n",
    "test_features = pd.DataFrame(SampleData)  #, index = [2,3,4,5,6,7,8,9,10,11]\n",
    "print (test_features)\n",
    "        "
   ]
  },
  {
   "cell_type": "code",
   "execution_count": 9,
   "metadata": {},
   "outputs": [
    {
     "name": "stdout",
     "output_type": "stream",
     "text": [
      "[7, 5, 10, 7, 6, 10, 12, 5, 7, 4, 5, 10, 7, 6, 10, 8, 4, 4, 8, 10]\n"
     ]
    }
   ],
   "source": [
    "test_labels = []\n",
    "for t_index, t_row in test_features.iterrows():\n",
    "    t_attr = [ t_row['SalesChannel'], t_row['AgentCategory'], t_row['Product'] ]\n",
    "    \n",
    "    for f_index, f_row in f_in.iterrows():\n",
    "        \n",
    "        if t_attr == f_row['Attributes'] and f_row['Premium_from'] <= t_row['Premium'] <  f_row['Premium_to']: \n",
    "            test_labels.append(f_row['Commission'])\n",
    "#            print(t_attr,'  ',t_row['Premium'],'   ', f_row['Commission'])\n",
    "            \n",
    "print(test_labels[0:20])"
   ]
  },
  {
   "cell_type": "code",
   "execution_count": 10,
   "metadata": {},
   "outputs": [],
   "source": [
    "# Use the forest's predict method on the test data\n",
    "predictions = rf.predict(test_features)\n"
   ]
  },
  {
   "cell_type": "code",
   "execution_count": 11,
   "metadata": {},
   "outputs": [
    {
     "name": "stdout",
     "output_type": "stream",
     "text": [
      "[ 7.02093333  5.92258333  9.9695      7.04533333  6.4854     11.07174524\n",
      " 13.08583571  5.043       6.78513333  4.76613333  5.72107857  9.963\n",
      "  7.00735714  5.979       9.944       9.68298333  4.99340238  4.76613333\n",
      "  9.95355952 10.53327143]\n"
     ]
    }
   ],
   "source": [
    "\n",
    "print(predictions[0:20])"
   ]
  },
  {
   "cell_type": "code",
   "execution_count": 12,
   "metadata": {},
   "outputs": [
    {
     "name": "stdout",
     "output_type": "stream",
     "text": [
      "Mean Absolute Error: 0.53 degrees.\n"
     ]
    }
   ],
   "source": [
    "# Calculate the absolute errors\n",
    "#prediction - actual\n",
    "errors = abs(predictions - test_labels)\n",
    "\n",
    "# Print out the mean absolute error (mae)\n",
    "print('Mean Absolute Error:', round(np.mean(errors), 2), 'degrees.')"
   ]
  },
  {
   "cell_type": "code",
   "execution_count": 13,
   "metadata": {},
   "outputs": [],
   "source": [
    "# Import tools needed for visualization\n",
    "from sklearn.tree import export_graphviz\n",
    "import pydot\n",
    "\n",
    "# Pull out one tree from the forest\n",
    "tree = rf.estimators_[5]\n",
    "\n",
    "# Pull out one tree from the forest\n",
    "tree = rf.estimators_[5]\n",
    "\n",
    "# Export the image to a dot file\n",
    "export_graphviz(tree, out_file = 'tree.dot', feature_names = feature_list, rounded = True, precision = 1)\n",
    "\n",
    "# Use dot file to create a graph\n",
    "(graph, ) = pydot.graph_from_dot_file('tree.dot')\n",
    "\n",
    "# Write graph to a png file\n",
    "#if error:   FileNotFoundError: [Errno 2] \"dot\" not found in path.\n",
    "#            sudo apt-get install graphviz\n",
    "graph.write_png('tree.png')"
   ]
  },
  {
   "cell_type": "code",
   "execution_count": 14,
   "metadata": {},
   "outputs": [
    {
     "name": "stdout",
     "output_type": "stream",
     "text": [
      "Variable: SalesChannel         Importance: 0.46\n",
      "Variable: Product              Importance: 0.39\n",
      "Variable: Premium              Importance: 0.11\n",
      "Variable: AgentCategory        Importance: 0.04\n"
     ]
    }
   ],
   "source": [
    "# Get numerical feature importances\n",
    "importances = list(rf.feature_importances_)\n",
    "\n",
    "# List of tuples with variable and importance\n",
    "feature_importances = [(feature, round(importance, 2)) for feature, importance in zip(feature_list, importances)]\n",
    "\n",
    "# Sort the feature importances by most important first\n",
    "feature_importances = sorted(feature_importances, key = lambda x: x[1], reverse = True)\n",
    "\n",
    "# Print out the feature and importances \n",
    "[print('Variable: {:20} Importance: {}'.format(*pair)) for pair in feature_importances];"
   ]
  },
  {
   "cell_type": "code",
   "execution_count": null,
   "metadata": {},
   "outputs": [],
   "source": []
  }
 ],
 "metadata": {
  "kernelspec": {
   "display_name": "Python 3",
   "language": "python",
   "name": "python3"
  },
  "language_info": {
   "codemirror_mode": {
    "name": "ipython",
    "version": 3
   },
   "file_extension": ".py",
   "mimetype": "text/x-python",
   "name": "python",
   "nbconvert_exporter": "python",
   "pygments_lexer": "ipython3",
   "version": "3.6.7"
  }
 },
 "nbformat": 4,
 "nbformat_minor": 2
}
