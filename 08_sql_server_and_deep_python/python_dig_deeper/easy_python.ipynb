{
 "cells": [
  {
   "cell_type": "markdown",
   "metadata": {},
   "source": [
    "# Deeper way to learn python..."
   ]
  },
  {
   "cell_type": "markdown",
   "metadata": {},
   "source": [
    "## 1 - Introduction"
   ]
  },
  {
   "cell_type": "code",
   "execution_count": 6,
   "metadata": {},
   "outputs": [
    {
     "name": "stdout",
     "output_type": "stream",
     "text": [
      "#!/usr/bin/python\r\n",
      "\r\n",
      "original = [1, 2, 3, 4, 5]\r\n",
      "\r\n",
      "b = original\r\n",
      "c = original[:]\r\n",
      "\r\n",
      "print(\"original: \", original)\r\n",
      "print(\"       b: \", b)\r\n",
      "print(\"       c: \", c)\r\n",
      "print(\"########################\")\r\n",
      "#b[2] = 42\r\n",
      "#print(\"modify a member in b: b[2] = 42\")\r\n",
      "#print(\"\\n\")\r\n",
      "#print(\"original: \", original)\r\n",
      "#print(\"       b: \", b)\r\n",
      "#print(\"       c: \", c)\r\n"
     ]
    }
   ],
   "source": [
    "!cat 00-interesting_01.py"
   ]
  },
  {
   "cell_type": "markdown",
   "metadata": {},
   "source": [
    "## 2 - Iterators\n",
    "- a Python iterator is simply a class that defines an ```__iter__()``` method.\n",
    "- most Python objects are iterable (strings, lists, dicts, ranges, etc…)\n",
    "- the function will then return an iterator object that defines the method ```__next__()``` which will access each item\n",
    "- ```__next__()``` will raise a ```stopIteration``` exception, when there are no more items left, which will in turn inform the loop to terminate"
   ]
  },
  {
   "cell_type": "code",
   "execution_count": 7,
   "metadata": {},
   "outputs": [
    {
     "name": "stdout",
     "output_type": "stream",
     "text": [
      "part: element_1\n",
      "part: element_2\n",
      "part: element_3\n"
     ]
    }
   ],
   "source": [
    "array = [\"element_1\", \"element_2\", \"element_3\"]\n",
    "\n",
    "def loop_function():\n",
    "    for elem in array:\n",
    "        print(\"part: {}\". format(elem))\n",
    "\n",
    "\n",
    "loop_function()"
   ]
  },
  {
   "cell_type": "markdown",
   "metadata": {},
   "source": [
    "\n",
    "##### How to build an iterator?\n"
   ]
  },
  {
   "cell_type": "code",
   "execution_count": 8,
   "metadata": {},
   "outputs": [
    {
     "data": {
      "text/plain": [
       "'element_1'"
      ]
     },
     "execution_count": 8,
     "metadata": {},
     "output_type": "execute_result"
    }
   ],
   "source": [
    "class IterateReverse(object):\n",
    "    \"\"\"Simple class for an iterator.\n",
    "    Looping over an array(list) in reverse.\"\"\"\n",
    "    def __init__(self, array):\n",
    "        self.array = array\n",
    "        self.idx = len(array)\n",
    "\n",
    "    # special method that a class turning into iterator\n",
    "    def __iter__(self):\n",
    "        return self\n",
    "\n",
    "    # this method is required for a generator\n",
    "    def __next__(self):\n",
    "        if self.idx == 0:\n",
    "            # after completed a loop and you try to call the function \n",
    "            # it raises error\n",
    "            raise StopIteration()\n",
    "        self.idx = self.idx - 1\n",
    "        return self.array[self.idx]\n",
    "\n",
    "\n",
    "ireverse = IterateReverse(array)\n",
    "next(ireverse)\n",
    "next(ireverse)\n",
    "next(ireverse)\n",
    "#list(ireverse)\n",
    "#list(ireverse)\n"
   ]
  },
  {
   "cell_type": "markdown",
   "metadata": {},
   "source": [
    "## 3 - Generators\n",
    "- a generator is a function that returns a _generator object_ on which you can call the `next()` method\n",
    "- a normal Python function uses the `return` keyword to return values, but generators use the keyword `yield` to return values\n",
    "<br><br>Generators are used to create iterators, but with a different approach. Generators are simple functions which return an iterable set of items, one at a time, in a special way. When an iteration over a set of item starts using the for statement, the generator is run. Once the generator's function code reaches a `yield` statement, the generator yields its execution back to the for loop, returning a new value from the set. The generator function can generate as many values (possibly infinite) as it wants, yielding each one in its turn.<br><br>\n",
    "- __Less Memory Consumption:__ <br>generators help to minimize memory consumption, especially when dealing with large data sets, because a generator will only return one item at a time\n",
    "<br><br>\n",
    "- __Better Performance and Optimisation:__ <br>generators are lazy objects, this means that they only generate values when required to do so"
   ]
  },
  {
   "cell_type": "code",
   "execution_count": 60,
   "metadata": {},
   "outputs": [
    {
     "name": "stdout",
     "output_type": "stream",
     "text": [
      "Good, This function is a generator. <generator object generator_function at 0x7f5ff0074ed0>\n"
     ]
    }
   ],
   "source": [
    "def generator_function():\n",
    "    number1, number2 = 1, 1\n",
    "    while 1:\n",
    "        yield number1\n",
    "        number1, number2 = number2, number1 + number2\n",
    "\n",
    "\n",
    "# write code to test(check) that function is a really generator\n",
    "import types\n",
    "\n",
    "if type(generator_function()) == types.GeneratorType:\n",
    "    print(\"Good, This function is a generator. {}\". format(generator_function()))"
   ]
  },
  {
   "cell_type": "code",
   "execution_count": 61,
   "metadata": {},
   "outputs": [
    {
     "name": "stdout",
     "output_type": "stream",
     "text": [
      "     1\t#!/usr/bin/python\n",
      "     2\t\n",
      "     3\tdef generator_function():\n",
      "     4\t    number1, number2 = 1, 1\n",
      "     5\t    while 1:\n",
      "     6\t        yield number1\n",
      "     7\t        number1, number2 = number2, number1 + number2\n",
      "     8\t\n",
      "     9\t\n",
      "    10\t# write code to test(check) that function is a really generator\n",
      "    11\timport types\n",
      "    12\t\n",
      "    13\tif type(generator_function()) == types.GeneratorType:\n",
      "    14\t    print(\"Good, This function is a generator: {}.\". format(type(generator_function())))\n",
      "    15\t\n",
      "    16\t    counter = 0\n",
      "    17\t    for n in generator_function():\n",
      "    18\t        print(n)\n",
      "    19\t        counter += 1\n",
      "    20\t        if counter == 10:\n",
      "    21\t            break\n",
      " --- modulename: 02-generator_02, funcname: <module>\n",
      "02-generator_02.py(3): def generator_function():\n",
      "02-generator_02.py(11): import types\n",
      "02-generator_02.py(13): if type(generator_function()) == types.GeneratorType:\n",
      " --- modulename: 02-generator_02, funcname: generator_function\n",
      "02-generator_02.py(14):     print(\"Good, This function is a generator: {}.\". format(type(generator_function())))\n",
      " --- modulename: 02-generator_02, funcname: generator_function\n",
      "Good, This function is a generator: <class 'generator'>.\n",
      "02-generator_02.py(16):     counter = 0\n",
      "02-generator_02.py(17):     for n in generator_function():\n",
      " --- modulename: 02-generator_02, funcname: generator_function\n",
      "02-generator_02.py(4):     number1, number2 = 1, 1\n",
      "02-generator_02.py(5):     while 1:\n",
      "02-generator_02.py(6):         yield number1\n",
      "02-generator_02.py(18):         print(n)\n",
      "1\n",
      "02-generator_02.py(19):         counter += 1\n",
      "02-generator_02.py(20):         if counter == 10:\n",
      "02-generator_02.py(17):     for n in generator_function():\n",
      " --- modulename: 02-generator_02, funcname: generator_function\n",
      "02-generator_02.py(7):         number1, number2 = number2, number1 + number2\n",
      "02-generator_02.py(6):         yield number1\n",
      "02-generator_02.py(18):         print(n)\n",
      "1\n",
      "02-generator_02.py(19):         counter += 1\n",
      "02-generator_02.py(20):         if counter == 10:\n",
      "02-generator_02.py(17):     for n in generator_function():\n",
      " --- modulename: 02-generator_02, funcname: generator_function\n",
      "02-generator_02.py(7):         number1, number2 = number2, number1 + number2\n",
      "02-generator_02.py(6):         yield number1\n",
      "02-generator_02.py(18):         print(n)\n",
      "2\n",
      "02-generator_02.py(19):         counter += 1\n",
      "02-generator_02.py(20):         if counter == 10:\n",
      "02-generator_02.py(17):     for n in generator_function():\n",
      " --- modulename: 02-generator_02, funcname: generator_function\n",
      "02-generator_02.py(7):         number1, number2 = number2, number1 + number2\n",
      "02-generator_02.py(6):         yield number1\n",
      "02-generator_02.py(18):         print(n)\n",
      "3\n",
      "02-generator_02.py(19):         counter += 1\n",
      "02-generator_02.py(20):         if counter == 10:\n",
      "02-generator_02.py(17):     for n in generator_function():\n",
      " --- modulename: 02-generator_02, funcname: generator_function\n",
      "02-generator_02.py(7):         number1, number2 = number2, number1 + number2\n",
      "02-generator_02.py(6):         yield number1\n",
      "02-generator_02.py(18):         print(n)\n",
      "5\n",
      "02-generator_02.py(19):         counter += 1\n",
      "02-generator_02.py(20):         if counter == 10:\n",
      "02-generator_02.py(17):     for n in generator_function():\n",
      " --- modulename: 02-generator_02, funcname: generator_function\n",
      "02-generator_02.py(7):         number1, number2 = number2, number1 + number2\n",
      "02-generator_02.py(6):         yield number1\n",
      "02-generator_02.py(18):         print(n)\n",
      "8\n",
      "02-generator_02.py(19):         counter += 1\n",
      "02-generator_02.py(20):         if counter == 10:\n",
      "02-generator_02.py(17):     for n in generator_function():\n",
      " --- modulename: 02-generator_02, funcname: generator_function\n",
      "02-generator_02.py(7):         number1, number2 = number2, number1 + number2\n",
      "02-generator_02.py(6):         yield number1\n",
      "02-generator_02.py(18):         print(n)\n",
      "13\n",
      "02-generator_02.py(19):         counter += 1\n",
      "02-generator_02.py(20):         if counter == 10:\n",
      "02-generator_02.py(17):     for n in generator_function():\n",
      " --- modulename: 02-generator_02, funcname: generator_function\n",
      "02-generator_02.py(7):         number1, number2 = number2, number1 + number2\n",
      "02-generator_02.py(6):         yield number1\n",
      "02-generator_02.py(18):         print(n)\n",
      "21\n",
      "02-generator_02.py(19):         counter += 1\n",
      "02-generator_02.py(20):         if counter == 10:\n",
      "02-generator_02.py(17):     for n in generator_function():\n",
      " --- modulename: 02-generator_02, funcname: generator_function\n",
      "02-generator_02.py(7):         number1, number2 = number2, number1 + number2\n",
      "02-generator_02.py(6):         yield number1\n",
      "02-generator_02.py(18):         print(n)\n",
      "34\n",
      "02-generator_02.py(19):         counter += 1\n",
      "02-generator_02.py(20):         if counter == 10:\n",
      "02-generator_02.py(17):     for n in generator_function():\n",
      " --- modulename: 02-generator_02, funcname: generator_function\n",
      "02-generator_02.py(7):         number1, number2 = number2, number1 + number2\n",
      "02-generator_02.py(6):         yield number1\n",
      "02-generator_02.py(18):         print(n)\n",
      "55\n",
      "02-generator_02.py(19):         counter += 1\n",
      "02-generator_02.py(20):         if counter == 10:\n",
      "02-generator_02.py(21):             break\n",
      " --- modulename: 02-generator_02, funcname: generator_function\n"
     ]
    }
   ],
   "source": [
    "!cat -n 02-generator_02.py\n",
    "#!python3 -m trace --listfuncs -C . 02-generator_01.py\n",
    "!python3 -m trace --trace -C . 02-generator_02.py"
   ]
  },
  {
   "cell_type": "markdown",
   "metadata": {},
   "source": [
    "__Generators are more memory efficient, especially when working with very large lists or big objects.__"
   ]
  },
  {
   "cell_type": "code",
   "execution_count": 20,
   "metadata": {},
   "outputs": [
    {
     "name": "stdout",
     "output_type": "stream",
     "text": [
      "Percentages: ['2.597', '3.896', '6.494', '12.987', '19.481', '25.974', '28.571']\n"
     ]
    }
   ],
   "source": [
    "def datanormalizer(data) -> 'list':\n",
    "    result_of_normalized_data = []\n",
    "    summa = sum(data)\n",
    "    \n",
    "    for value in data:\n",
    "        percentages_of_members = 100 * value / summa\n",
    "        result_of_normalized_data.append(f\"{percentages_of_members:.3f}\")\n",
    "    \n",
    "    return result_of_normalized_data\n",
    "\n",
    "\n",
    "filtered_data = [10, 15, 25, 50, 75, 100, 110]\n",
    "percentages = datanormalizer(filtered_data)\n",
    "print(\"Percentages: {}\". format(percentages))"
   ]
  },
  {
   "cell_type": "markdown",
   "metadata": {},
   "source": [
    "Write a general function (generator) which is reusable"
   ]
  },
  {
   "cell_type": "code",
   "execution_count": 63,
   "metadata": {},
   "outputs": [
    {
     "name": "stdout",
     "output_type": "stream",
     "text": [
      "[10, 15, 25, 50, 75, 100, 110]\n",
      "Percentages: []\n"
     ]
    }
   ],
   "source": [
    "def read_datafile(datafile):\n",
    "    with open(datafile) as f:\n",
    "        for line in f:\n",
    "            yield int(line)\n",
    "\n",
    "\n",
    "# in this case already exhausted\n",
    "working_data = read_datafile('filtered_data.txt')\n",
    "print(list(working_data))\n",
    "#print(list(working_data))\n",
    "percentages = datanormalizer(working_data)\n",
    "#print(datanormalizer_dup(working_data))\n",
    "print(\"Percentages: {}\". format(percentages))"
   ]
  },
  {
   "cell_type": "markdown",
   "metadata": {},
   "source": [
    "__Looking for some solutions...__"
   ]
  },
  {
   "cell_type": "markdown",
   "metadata": {},
   "source": [
    "__1: try to make duplicate the given list__"
   ]
  },
  {
   "cell_type": "code",
   "execution_count": 51,
   "metadata": {},
   "outputs": [
    {
     "name": "stdout",
     "output_type": "stream",
     "text": [
      "Percentages: ['2.597', '3.896', '6.494', '12.987', '19.481', '25.974', '28.571']\n",
      "Percentages: ['2.597', '3.896', '6.494', '12.987', '19.481', '25.974', '28.571']\n"
     ]
    }
   ],
   "source": [
    "def datanormalizer_dup(data) -> 'list':\n",
    "    result_of_normalized_data = []\n",
    "    # iterator is duplicated\n",
    "    data = list(data)\n",
    "    summa = sum(data)\n",
    "    \n",
    "    for value in data:\n",
    "        percentages_of_members = 100 * value / summa\n",
    "        result_of_normalized_data.append(f\"{percentages_of_members:.3f}\")\n",
    "    \n",
    "    return result_of_normalized_data\n",
    "\n",
    "\n",
    "working_data = read_datafile('filtered_data.txt')\n",
    "percentages = datanormalizer_dup(working_data)\n",
    "#print(datanormalizer_dup(working_data))\n",
    "print(\"Percentages: {}\". format(percentages))\n",
    "print(\"Percentages: {}\". format(percentages))"
   ]
  },
  {
   "cell_type": "markdown",
   "metadata": {},
   "source": [
    "__2: instead of a given list, use function__"
   ]
  },
  {
   "cell_type": "code",
   "execution_count": 56,
   "metadata": {},
   "outputs": [
    {
     "name": "stdout",
     "output_type": "stream",
     "text": [
      "with iterable function:  ['2.597', '3.896', '6.494', '12.987', '19.481', '25.974', '28.571']\n",
      "with iterable function:  ['2.597', '3.896', '6.494', '12.987', '19.481', '25.974', '28.571']\n"
     ]
    }
   ],
   "source": [
    "def datanormalizer_iter_function(get_iter) -> 'list':\n",
    "    result_of_normalized_data = []\n",
    "    # a new iterator is created...\n",
    "    summa = sum(get_iter())\n",
    "    \n",
    "    for value in get_iter():\n",
    "        percentages_of_members = 100 * value / summa\n",
    "        result_of_normalized_data.append(f\"{percentages_of_members:.3f}\")\n",
    "\n",
    "    return result_of_normalized_data\n",
    "\n",
    "\n",
    "print(\"with iterable function: \", datanormalizer_iter_function(lambda: read_datafile('filtered_data.txt')))\n",
    "print(\"with iterable function: \", datanormalizer_iter_function(lambda: read_datafile('filtered_data.txt')))"
   ]
  },
  {
   "cell_type": "markdown",
   "metadata": {},
   "source": [
    "### to use datanormalizer_iter_function(), you can pass in a lambda expression that calls the generator and produces a new iterator each time."
   ]
  },
  {
   "cell_type": "markdown",
   "metadata": {},
   "source": [
    "__3: build iterator class__ "
   ]
  },
  {
   "cell_type": "code",
   "execution_count": 57,
   "metadata": {},
   "outputs": [
    {
     "name": "stdout",
     "output_type": "stream",
     "text": [
      "with ReadIterator class: ['2.597', '3.896', '6.494', '12.987', '19.481', '25.974', '28.571']\n",
      "with ReadIterator class: ['2.597', '3.896', '6.494', '12.987', '19.481', '25.974', '28.571']\n"
     ]
    }
   ],
   "source": [
    "class IteratorReader(object):\n",
    "    def __init__(self, datafile):\n",
    "        self.datafile = datafile\n",
    "        \n",
    "    def __iter__(self):\n",
    "        with open(self.datafile) as f:\n",
    "            for line in f:\n",
    "                yield int(line)\n",
    "\n",
    "\n",
    "iterating = IteratorReader('filtered_data.txt')\n",
    "percentages = datanormalizer(iterating)\n",
    "print(\"with ReadIterator class: {}\". format(percentages))\n",
    "print(\"with ReadIterator class: {}\". format(percentages))"
   ]
  },
  {
   "cell_type": "markdown",
   "metadata": {},
   "source": [
    "__4: a best practice solution__"
   ]
  },
  {
   "cell_type": "code",
   "execution_count": 59,
   "metadata": {},
   "outputs": [
    {
     "name": "stdout",
     "output_type": "stream",
     "text": [
      "['2.597', '3.896', '6.494', '12.987', '19.481', '25.974', '28.571']\n",
      "['2.597', '3.896', '6.494', '12.987', '19.481', '25.974', '28.571']\n"
     ]
    }
   ],
   "source": [
    "def datanormalizer_w_condition(data) -> 'list':\n",
    "    # check if a given parameter is iterator\n",
    "    if iter(data) is iter(data):\n",
    "        # raise exception, because it must be container\n",
    "        raise TypeError('Must supply a container')\n",
    "\n",
    "    summa = sum(data)\n",
    "    result_of_normalized_data = []\n",
    "    \n",
    "    for value in data:\n",
    "        percentages_of_members = 100 * value / summa\n",
    "        result_of_normalized_data.append(f\"{percentages_of_members:.3f}\")\n",
    "        \n",
    "    return result_of_normalized_data\n",
    "\n",
    "\n",
    "filtered_data = [10, 15, 25, 50, 75, 100, 110]\n",
    "print(datanormalizer_w_condition(filtered_data))\n",
    "\n",
    "filtered_datafile = IteratorReader('filtered_data.txt')\n",
    "print(datanormalizer_w_condition(filtered_datafile))\n",
    "\n",
    "\n",
    "#it = iter(datas)\n",
    "#normalize_defensive(it)"
   ]
  },
  {
   "cell_type": "markdown",
   "metadata": {},
   "source": [
    "### why we use generators?"
   ]
  },
  {
   "cell_type": "markdown",
   "metadata": {},
   "source": [
    "__1: easy to implement__<br>\n",
    "__2: memory efficient__<br>\n",
    "__3: represent infinite stream__<br>\n",
    "__4: pipelining generators__<br>"
   ]
  },
  {
   "cell_type": "markdown",
   "metadata": {},
   "source": [
    "## 4 - How functions works"
   ]
  },
  {
   "cell_type": "markdown",
   "metadata": {},
   "source": [
    "- functions are __first-class objects__:<br>this means that functions can be passed around, and used as arguments, just like any other value\n",
    "- because of the first-class nature of functions:<br>in Python, you can define functions inside other functions (nested functions → closures)\n",
    "- python also allows you to return functions from other functions"
   ]
  },
  {
   "cell_type": "code",
   "execution_count": 64,
   "metadata": {},
   "outputs": [
    {
     "name": "stdout",
     "output_type": "stream",
     "text": [
      "<function foo at 0x7f5ff0093050>\n",
      "3\n",
      "<class 'function'>\n",
      "4\n",
      "4\n"
     ]
    }
   ],
   "source": [
    "\"\"\"\n",
    "In Python, functions are first-class objects.\n",
    "This means that functions can be passed around, and used as arguments,\n",
    "just like any other value.\n",
    "\"\"\"\n",
    "\n",
    "def foo(bar):\n",
    "    return bar + 1\n",
    "\n",
    "print(foo)\n",
    "print(foo(2))\n",
    "print(type(foo))\n",
    "\n",
    "def call_foo_with_arg(foo, arg):\n",
    "    return foo(arg)\n",
    "\n",
    "print(call_foo_with_arg(foo, 3))\n",
    "\n",
    "from pycallgraph import PyCallGraph\n",
    "from pycallgraph.output import GraphvizOutput\n",
    "\n",
    "graphviz = GraphvizOutput()\n",
    "graphviz.output_file = \"./graph01.png\"\n",
    "\n",
    "with PyCallGraph(output=graphviz):\n",
    "    print(call_foo_with_arg(foo, 3))"
   ]
  },
  {
   "cell_type": "markdown",
   "metadata": {},
   "source": [
    "https://ohuiginn.net/mt/2009/01/pycallgraph.html"
   ]
  },
  {
   "cell_type": "code",
   "execution_count": 65,
   "metadata": {},
   "outputs": [
    {
     "name": "stdout",
     "output_type": "stream",
     "text": [
      "in the parent function...\n",
      "\n",
      "\n",
      "type of first_child funct:  <class 'function'>\n",
      "in the first_child function...\n",
      "\n",
      "\n",
      "type of second_child funct:  <class 'str'>\n",
      "in the second_child function...\n"
     ]
    }
   ],
   "source": [
    "\"\"\"\n",
    "Because of the first-class nature of functions in Python,\n",
    "you can define functions inside other functions.\n",
    "\"\"\"\n",
    "\n",
    "def parent():\n",
    "    print(\"in the parent function...\")\n",
    "\n",
    "    def first_child():\n",
    "        return \"in the first_child function...\"\n",
    "\n",
    "    def second_child():\n",
    "        return \"in the second_child function...\"\n",
    "\n",
    "    print(\"\\n\")\n",
    "    print(\"type of first_child funct: \", type(first_child))\n",
    "    print(first_child())\n",
    "    print(\"\\n\")\n",
    "    print(\"type of second_child funct: \", type(second_child()))\n",
    "    print(second_child())\n",
    "\n",
    "\n",
    "parent()"
   ]
  },
  {
   "cell_type": "code",
   "execution_count": null,
   "metadata": {},
   "outputs": [],
   "source": [
    "\"\"\"\n",
    "Python also allows you to return functions from other functions.\n",
    "\"\"\"\n",
    "\n",
    "def parent(num):\n",
    "    def first_C():\n",
    "        return \"in the first_C() function...\"\n",
    "\n",
    "    def second_C():\n",
    "        return \"in the second_C() function...\"\n",
    "\n",
    "    try:\n",
    "        assert num == 10\n",
    "        return first_C\n",
    "    except AssertionError:\n",
    "        return second_C\n",
    "\n",
    "foo = parent(10)\n",
    "bar = parent(11)\n",
    "\n",
    "print(\"foo: \", foo)\n",
    "print(\"bar: \", bar)\n",
    "\n",
    "print(\"\\n\")\n",
    "\n",
    "print(\"foo(): \", foo())\n",
    "print(\"bar(): \", bar())\n",
    "\n",
    "\n",
    "# THIS IS DISGUSTING...\n",
    "a = [1, 2, 3]\n",
    "X = [a, parent(13), foo, bar()]\n",
    "print(X)"
   ]
  },
  {
   "cell_type": "markdown",
   "metadata": {},
   "source": [
    "### First class objects:\n",
    "- Functions are objects: we are assigning function to a variable\n",
    "- Functions can be passed as arguments to other functions\n",
    "- Functions can return another function"
   ]
  },
  {
   "cell_type": "markdown",
   "metadata": {},
   "source": [
    "## 5 - Closures"
   ]
  },
  {
   "cell_type": "markdown",
   "metadata": {},
   "source": [
    "- a closure is a function object that remembers values in enclosing scopes even if they are not present in memory.\n",
    "- a closure occurs when a function has access to a local variable from an enclosing scope that has finished its execution.\n",
    "- only an embedded function with strange permissions\n",
    "- remember the magic: nonlocal"
   ]
  },
  {
   "cell_type": "code",
   "execution_count": 66,
   "metadata": {},
   "outputs": [],
   "source": [
    "def group_sort(array, group) -> 'list':\n",
    "    def inner_function(elem):\n",
    "        if elem in group:\n",
    "            return (0, elem)\n",
    "        \n",
    "        return (1, elem)\n",
    "    \n",
    "    array.sort(key = inner_function)"
   ]
  },
  {
   "cell_type": "code",
   "execution_count": 67,
   "metadata": {},
   "outputs": [
    {
     "name": "stdout",
     "output_type": "stream",
     "text": [
      "[4, 13, 23, 75, 99, 1, 3, 5, 7, 9, 11, 33, 57]\n"
     ]
    }
   ],
   "source": [
    "filtered_data = [11, 3, 5, 13, 23, 99, 33, 75, 57, 4, 9, 7, 1]\n",
    "group = {99, 13, 4, 75, 23}\n",
    "group_sort(filtered_data, group)\n",
    "print(filtered_data)"
   ]
  },
  {
   "cell_type": "markdown",
   "metadata": {},
   "source": [
    "### expand the code with flag if there are high-priority items in array"
   ]
  },
  {
   "cell_type": "code",
   "execution_count": 69,
   "metadata": {},
   "outputs": [
    {
     "name": "stdout",
     "output_type": "stream",
     "text": [
      "are there any data in group: True\n",
      "[4, 13, 23, 75, 99, 1, 3, 5, 7, 9, 11, 33, 57]\n"
     ]
    }
   ],
   "source": [
    "def group_sort(array, group) -> 'boolean':\n",
    "    in_group = False\n",
    "    def inner_function(elem):\n",
    "        if elem in group:\n",
    "            nonlocal in_group\n",
    "            in_group = True\n",
    "            return (0, elem)\n",
    "        \n",
    "        return (1, elem)\n",
    "    \n",
    "    array.sort(key = inner_function)\n",
    "    return in_group\n",
    "\n",
    "\n",
    "filtered_data = [11, 3, 5, 13, 23, 99, 33, 75, 57, 4, 9, 7, 1]\n",
    "group = {99, 13, 4, 75, 23}\n",
    "gs_lookup = group_sort(filtered_data, group)\n",
    "\n",
    "print(\"are there any data in group: {}\". format(gs_lookup))\n",
    "print(filtered_data)"
   ]
  },
  {
   "cell_type": "code",
   "execution_count": null,
   "metadata": {},
   "outputs": [],
   "source": []
  },
  {
   "cell_type": "markdown",
   "metadata": {},
   "source": [
    "## 6 - Decorators"
   ]
  },
  {
   "cell_type": "markdown",
   "metadata": {},
   "source": [
    "- by definition, a __decorator__ is a function that takes another function and extends the behavior of the latter function without explicitly modifying it.\n",
    "- add functionality to an existing code => also called __metaprogramming__\n",
    "- __first-class objects__: this means that functions can be passed around, and used as arguments, just like any other value.\n",
    "- decorators allow you to inject or modify code in functions or classes ( __AOP__ ??? )"
   ]
  },
  {
   "cell_type": "markdown",
   "metadata": {},
   "source": [
    "### what can we do with decorators?"
   ]
  },
  {
   "cell_type": "markdown",
   "metadata": {},
   "source": [
    "do something at the entry and exit points of a function\n",
    "- tracing, tracking\n",
    "- locking\n",
    "- kind of security\n",
    "- logging\n",
    "- counting, skip-if condition"
   ]
  },
  {
   "cell_type": "markdown",
   "metadata": {},
   "source": [
    "### Examples..."
   ]
  },
  {
   "cell_type": "code",
   "execution_count": null,
   "metadata": {},
   "outputs": [],
   "source": [
    "def skip_if(condition, message):\n",
    "    def decorator(wrapped):\n",
    "        def inner(*args, **kwargs):\n",
    "            if not condition:\n",
    "                # execute the function as normal\n",
    "                return wrapped(*args, **kwargs)\n",
    "            else:\n",
    "                # skip the function, print message\n",
    "                print(message)\n",
    "        return inner\n",
    "    return decorator\n",
    "\n",
    "@skip_if(False, \"Will not execute the function... HA-HAA.\")\n",
    "def dodge():\n",
    "    print(\"I dodged! Ha Haa...!\")\n",
    "\n",
    "dodge()"
   ]
  },
  {
   "cell_type": "code",
   "execution_count": 70,
   "metadata": {},
   "outputs": [
    {
     "name": "stdout",
     "output_type": "stream",
     "text": [
      "displayInfo ran with arguments ( qny, 33 )\n",
      "displayInfo ran in: 1.0008645057678223 sec\n"
     ]
    }
   ],
   "source": [
    "from functools import wraps\n",
    "\n",
    "def myLogger(originalFunction):\n",
    "    import logging\n",
    "\n",
    "    logging.basicConfig(filename='{}.log'.format(originalFunction.__name__), level=logging.INFO)\n",
    "\n",
    "    @wraps(originalFunction)\n",
    "    def wrapper1(*args, **kwargs):\n",
    "        logging.info('Ran with args: {}, and kwargs: {}'.format(args, kwargs))\n",
    "\n",
    "        return originalFunction(*args, **kwargs)\n",
    "\n",
    "    return wrapper1\n",
    "\n",
    "def myTimer(originalFunction):\n",
    "    import time\n",
    "\n",
    "    @wraps(originalFunction)\n",
    "    def wrapper2(*args, **kwargs):\n",
    "        t1 = time.time()\n",
    "        result = originalFunction(*args, **kwargs)\n",
    "        t2 = time.time() - t1\n",
    "        print('{} ran in: {} sec'.format(originalFunction.__name__, t2))\n",
    "\n",
    "        return result\n",
    "\n",
    "    return wrapper2\n",
    "\n",
    "import time\n",
    "\n",
    "@myLogger\n",
    "@myTimer\n",
    "def displayInfo(name, age):\n",
    "    time.sleep(1)\n",
    "    print('displayInfo ran with arguments ( {}, {} )'.format(name, age))\n",
    "\n",
    "displayInfo('qny', 33)\n"
   ]
  },
  {
   "cell_type": "code",
   "execution_count": null,
   "metadata": {},
   "outputs": [],
   "source": []
  }
 ],
 "metadata": {
  "kernelspec": {
   "display_name": "Python 3",
   "language": "python",
   "name": "python3"
  },
  "language_info": {
   "codemirror_mode": {
    "name": "ipython",
    "version": 3
   },
   "file_extension": ".py",
   "mimetype": "text/x-python",
   "name": "python",
   "nbconvert_exporter": "python",
   "pygments_lexer": "ipython3",
   "version": "3.7.4"
  }
 },
 "nbformat": 4,
 "nbformat_minor": 2
}
