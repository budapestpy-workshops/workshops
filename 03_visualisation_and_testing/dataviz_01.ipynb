{
 "cells": [
  {
   "cell_type": "code",
   "execution_count": null,
   "metadata": {},
   "outputs": [],
   "source": [
    "from bokeh.plotting import output_notebook,figure, show\n",
    "output_notebook()"
   ]
  },
  {
   "cell_type": "code",
   "execution_count": null,
   "metadata": {},
   "outputs": [],
   "source": [
    "import pandas as pd\n",
    "import numpy as np\n",
    "ds = pd.read_csv('https://raw.githubusercontent.com/budapestpy-workshops/sample_files/master/autompg.csv')\n",
    "ds.head()"
   ]
  },
  {
   "cell_type": "code",
   "execution_count": null,
   "metadata": {},
   "outputs": [],
   "source": [
    "ds['scyl'] = ds['cyl']*1.3\n",
    "ds.head()"
   ]
  },
  {
   "cell_type": "markdown",
   "metadata": {},
   "source": [
    "The same color values are used as in the css stylesheet\n",
    "\n",
    "Color codes\n",
    "\n",
    "#560027 pink\n",
    "\n",
    "#000051 blue\n",
    "\n",
    "#ffee58 yellow\n",
    "\n",
    "#870000 orange\n"
   ]
  },
  {
   "cell_type": "code",
   "execution_count": null,
   "metadata": {},
   "outputs": [],
   "source": [
    "colors = [\"#000051\" ,\"#870000\" ,\"#ffee58\"]\n",
    "origins = ds['origin'].unique()\n",
    "\n",
    "originColor = pd.Series(data = colors, index = origins)\n",
    "print(originColor)"
   ]
  },
  {
   "cell_type": "code",
   "execution_count": null,
   "metadata": {},
   "outputs": [],
   "source": [
    "colorIndex = []\n",
    "for i in ds['origin']:\n",
    "    colorIndex.append(originColor[i])\n",
    "\n",
    "ds['color'] = np.array(colorIndex)\n",
    "ds.head()"
   ]
  },
  {
   "cell_type": "code",
   "execution_count": null,
   "metadata": {},
   "outputs": [],
   "source": [
    "mpgRange = ds['mpg'].agg([np.min, np.max])\n",
    "weightRange = ds['weight'].agg([np.min, np.max])\n",
    "\n",
    "print(mpgRange)\n",
    "print(weightRange)\n"
   ]
  },
  {
   "cell_type": "code",
   "execution_count": null,
   "metadata": {},
   "outputs": [],
   "source": [
    "p = figure(title=\"MPG by Weight\", \n",
    "           plot_width=900, plot_height=700,\n",
    "           y_range = mpgRange, x_range = weightRange,\n",
    "           background_fill_color=\"#e8eaf6\",\n",
    "           x_axis_label='weight', y_axis_label = 'mpg',\n",
    "           toolbar_location = None)\n",
    "\n",
    "p.circle('weight', 'mpg', size= 5, fill_color = \"#3f51b5\", line_color = \"#3f51b5\", source = ds)\n",
    "\n",
    "show(p)"
   ]
  },
  {
   "cell_type": "markdown",
   "metadata": {},
   "source": [
    "Based on the example above please change the shape of the points as \n",
    "p.x(...)\n",
    "p.asterisk(....)\n",
    "p.triangle(...)"
   ]
  },
  {
   "cell_type": "code",
   "execution_count": null,
   "metadata": {},
   "outputs": [],
   "source": []
  },
  {
   "cell_type": "code",
   "execution_count": null,
   "metadata": {},
   "outputs": [],
   "source": [
    "p = figure(title=\"MPG by Weight\", \n",
    "           plot_width=900, plot_height=700,\n",
    "           y_range = mpgRange, x_range = weightRange,\n",
    "           x_axis_label='weight', y_axis_label = 'mpg')\n",
    "p.circle('weight', 'mpg', size= 'scyl', fill_color = \"#3f51b5\", line_color = \"#3f51b5\", source = ds)\n",
    "show(p)"
   ]
  },
  {
   "cell_type": "code",
   "execution_count": null,
   "metadata": {},
   "outputs": [],
   "source": [
    "p.circle('weight', 'mpg', size= 5, fill_color = 'color', line_color = 'color', source = ds)\n",
    "show(p)"
   ]
  },
  {
   "cell_type": "code",
   "execution_count": null,
   "metadata": {},
   "outputs": [],
   "source": [
    "from bokeh.models import HoverTool\n",
    "from bokeh.models import ColumnDataSource\n",
    "\n",
    "source = ds\n",
    "hover = HoverTool(\n",
    "        tooltips = [\n",
    "            (\"(x,y)\", \"($weight, $mpg)\"),\n",
    "            (\"desc\", \"@name\"),\n",
    "        ]\n",
    "        )\n",
    "\n",
    "p = figure(title=\"MPG by Weight\", \n",
    "           plot_width=900, plot_height=700,\n",
    "           y_range = mpgRange, x_range = weightRange,\n",
    "           x_axis_label='weight', y_axis_label = 'mpg')\n",
    "\n",
    "p.circle('weight', 'mpg', size= 'scyl', fill_color = 'color', line_color = 'color', source = ds)\n",
    "\n",
    "p.add_tools(HoverTool(tooltips=[(\"Name\", \"@name\"),(\"mfr\", \"@mfr\"), ]))\n",
    "\n",
    "\n",
    "# change just some things about the x-axes\n",
    "p.xaxis.axis_label = \"Weight\"\n",
    "p.xaxis.axis_line_width = 2\n",
    "p.xaxis.axis_line_color = \"#49599a\"\n",
    "\n",
    "p.xaxis.major_label_text_color = \"black\"\n",
    "p.xaxis.major_label_orientation = 1.5\n",
    "\n",
    "# change just some things about the y-axes\n",
    "p.yaxis.axis_label = \"Miles Per Gallon\"\n",
    "p.yaxis.axis_line_width = 2\n",
    "p.yaxis.axis_line_color = \"#49599a\"\n",
    "\n",
    "p.yaxis.major_label_text_color = \"black\"\n",
    "p.yaxis.major_label_orientation = \"vertical\"\n",
    "\n",
    "# change things on all axes\n",
    "p.axis.minor_tick_in = 0\n",
    "p.axis.minor_tick_out = 3\n",
    "\n",
    "p.axis.major_tick_in = -6\n",
    "p.axis.major_tick_out = 5\n",
    "\n",
    "show(p)"
   ]
  },
  {
   "cell_type": "code",
   "execution_count": null,
   "metadata": {},
   "outputs": [],
   "source": [
    "import pandas as pd\n",
    "\n",
    "#download the bokeh sample data  \n",
    "#import bokeh as bokeh\n",
    "#bokeh.sampledata.download()\n",
    "\n",
    "from bokeh.sampledata.stocks import AAPL\n",
    "\n",
    "df = pd.DataFrame(AAPL)\n",
    "\n",
    "print(df)\n",
    "\n",
    "df['date'] = pd.to_datetime(df['date'])"
   ]
  },
  {
   "cell_type": "code",
   "execution_count": null,
   "metadata": {},
   "outputs": [],
   "source": [
    "\n",
    "# create a new plot with a datetime axis type\n",
    "p = figure(plot_width=800, plot_height=250, x_axis_type=\"datetime\")\n",
    "\n",
    "p.line(df['date'], df['close'], color='black', alpha=0.5)\n",
    "p.line(df['date'], df['low'], color='red', alpha=0.5)\n",
    "p.line(df['date'], df['high'], color='lime', alpha=0.5)\n"
   ]
  },
  {
   "cell_type": "code",
   "execution_count": null,
   "metadata": {},
   "outputs": [],
   "source": [
    "show(p)"
   ]
  },
  {
   "cell_type": "code",
   "execution_count": null,
   "metadata": {},
   "outputs": [],
   "source": [
    "from bokeh.plotting import figure, show\n",
    "from bokeh.tile_providers import get_provider, Vendors\n",
    "\n",
    "tile_provider = get_provider(Vendors.CARTODBPOSITRON)\n",
    "\n",
    "#from bokeh.tile_providers import CARTODBPOSITRON\n",
    "\n",
    "# in case of html output \n",
    "#from bokeh.plotting import output_file\n",
    "#output_file(\"ws3_dataviz.html\")\n",
    "\n",
    "# using notebook for output\n",
    "from bokeh.plotting import output_notebook\n",
    "output_notebook() \n",
    "\n"
   ]
  },
  {
   "cell_type": "code",
   "execution_count": null,
   "metadata": {},
   "outputs": [],
   "source": [
    "\n",
    "# range bounds supplied in web mercator coordinates\n",
    "# more about Mercator projection \n",
    "# https://en.wikipedia.org/wiki/Mercator_projection\n",
    "\n",
    "p = figure(x_range=(2119851, 2120851), y_range=(6017154, 6018154),\n",
    "           x_axis_type=\"mercator\", y_axis_type=\"mercator\")\n",
    "p.add_tile(tile_provider)\n",
    "\n",
    "p.circle(x = [2120075],y = [6017854] , size=10, fill_color=\"#FF0000\")\n",
    "\n",
    "#5;6"
   ]
  },
  {
   "cell_type": "code",
   "execution_count": null,
   "metadata": {},
   "outputs": [],
   "source": [
    "show(p)"
   ]
  },
  {
   "cell_type": "markdown",
   "metadata": {},
   "source": [
    "Please move the red point onto the venue location. Who is the quickest :-) "
   ]
  },
  {
   "cell_type": "code",
   "execution_count": null,
   "metadata": {},
   "outputs": [],
   "source": []
  }
 ],
 "metadata": {
  "kernelspec": {
   "display_name": "Python 3",
   "language": "python",
   "name": "python3"
  },
  "language_info": {
   "codemirror_mode": {
    "name": "ipython",
    "version": 3
   },
   "file_extension": ".py",
   "mimetype": "text/x-python",
   "name": "python",
   "nbconvert_exporter": "python",
   "pygments_lexer": "ipython3",
   "version": "3.6.7"
  }
 },
 "nbformat": 4,
 "nbformat_minor": 2
}
