{
 "cells": [
  {
   "cell_type": "markdown",
   "metadata": {
    "collapsed": true,
    "pycharm": {
     "is_executing": false
    }
   },
   "source": [
    "# Setting up the environment\n",
    "\n",
    "You can choose one of the following ways to create your virtual environment. Virtual environments are useful so you do not litter your system python installation. All commands executed will use relative paths from your current directory.\n",
    "\n",
    "## Anaconda (option 1)\n",
    "\n",
    "You can search the documentation of the following commands here:  \n",
    "https://docs.conda.io/en/latest/\n",
    "\n",
    "(Update conda to the latest version: `conda update conda`)\n",
    "\n",
    "(Maybe it is required to run `conda init <SHELL_NAME>` where the shell name could be e.g: bash, powershell, etc.)\n",
    "\n",
    "Creating a new Anaconda environment (places the new env in the default directory):  \n",
    "`conda create --name python_testing`\n",
    "\n",
    "Activate the new environment:  \n",
    "`conda activate python_testing`\n",
    "\n",
    "(Note: if you want to leave this virtualenv just run `conda deactivate`)\n",
    "\n",
    "Installing packages:  \n",
    "`conda install jupyter pytest selenium`\n",
    "\n",
    "## Python virtualenv (option 2)\n",
    "\n",
    "I assume you have python3 installed with pip. If not, than install these (I think the default python installation  contains the pip package, but if not, then install it separately):  \n",
    "https://www.python.org/  \n",
    "https://pip.pypa.io/en/stable/installing/\n",
    "\n",
    "You can read more about virtualenvs here:  \n",
    "https://virtualenv.pypa.io/en/latest/\n",
    "\n",
    "Download virtualenv package:  \n",
    "`python3 -m pip install virtualenv`\n",
    "\n",
    "Create virtualenv for this session (this creates the virtualenv in a directory called `venv` under the current directory):  \n",
    "`virtualenv venv/python_testing`\n",
    "\n",
    "Activating the virtualenv under Linux or OSX:  \n",
    "`source venv/python_testing/activate`\n",
    "\n",
    "Activating the virtualenv under Windows:\n",
    "`.\\venv\\python_testing\\Scripts\\activate`\n",
    "\n",
    "Running the above command causes your prompt to change: it should have the name of your virtualenv before your usual prompt (`(python_testing)`). Note: if you want to leave this virtual env, just run `deactivate`, and your prompt will be changed back to normal.\n",
    "\n",
    "Installing the necessary packages (in an activated virtualenv):  \n",
    "`python3 -m pip install jupyter pytest selenium`\n",
    "\n",
    "\n",
    "## Common: downloading geckodriver\n",
    "\n",
    "In this session we will use geckodriver, the selenium webdriver implementation for Firefox. Chrome users can find chromedriver, and other browser users can find their respective drivers as well.\n",
    "\n",
    "Create a directory for this session (if you haven't already), and create a subdirectory called `bin` under it.  \n",
    "NOTE: the virtualenv directory and the working directory should not be the same.\n",
    "\n",
    "Download the latest version of geckodriver (to drive Firefox browser):  \n",
    "https://github.com/mozilla/geckodriver/releases/\n",
    "\n",
    "Extract and put the binary in the previously created `bin` directory.\n",
    "\n",
    "If you want to run this notebook on your own computer, download the file, put it into your working directory, activate the virtualenv, and run the command:  \n",
    "`jupyter-notebook`"
   ]
  },
  {
   "cell_type": "markdown",
   "metadata": {},
   "source": [
    "# Let the testing begin\n",
    "\n",
    "## Do the imports\n",
    "\n",
    "If the imports make an Exception, then the setup of the environment was not successful. You should try to fix it before continuing."
   ]
  },
  {
   "cell_type": "code",
   "execution_count": 4,
   "metadata": {
    "pycharm": {
     "is_executing": false
    }
   },
   "outputs": [],
   "source": [
    "import pytest\n",
    "from time import sleep\n",
    "from selenium import webdriver"
   ]
  },
  {
   "cell_type": "markdown",
   "metadata": {},
   "source": [
    "## Create simple testcase as a function\n",
    "\n",
    "This simple testcase could be used by the wikipedia admins, that the article about the Chernobyl disaster is not tampered with. Of course this test is just for presentation purposes.\n",
    "\n",
    "The python selenium documentation can be found here:  \n",
    "https://selenium-python.readthedocs.io/\n",
    "\n",
    "The 4th section \"Locating elements\" explains the different element finding methods.\n",
    "\n",
    "Locating these descriptors can be easily done by using the Developer Toolbar of the browser of your choice, usually it can be activated with the F12 button.\n",
    "\n",
    "The most important part of the following function is the `assert` statement. If the expression written after it is False, then it raises an AssertionError. This will make the test fail."
   ]
  },
  {
   "cell_type": "code",
   "execution_count": 5,
   "metadata": {
    "pycharm": {
     "is_executing": false,
     "name": "#%%\n"
    }
   },
   "outputs": [],
   "source": [
    "def test_chernobyl_fact(fact_in_first_paragraph):\n",
    "    # The driver represents the object, which can be used to interact with the browser.\n",
    "    # Note to Windows users: don't forget to add .exe to the executable path.\n",
    "    driver = webdriver.Firefox(executable_path=\"bin/geckodriver\")\n",
    "    # The get method can be used to load a webpage in the browser\n",
    "    driver.get(\"https://en.wikipedia.org/wiki/Main_Page\")\n",
    "    # You can place sleeps in the test to see how the driver interacts with the browser.\n",
    "    # The next line will wait 5 seconds before continuing the execution.\n",
    "    sleep(5)\n",
    "    # The driver searches for the HTML element with id \"searchInput\". If it does not find it it drops an exception.\n",
    "    search_field = driver.find_element_by_id(\"searchInput\")\n",
    "    # We enter the search string.\n",
    "    search_field.send_keys(\"chernobyl disaster\")\n",
    "    # We locate the searchButton.\n",
    "    search_button = driver.find_element_by_id(\"searchButton\")\n",
    "    # We click on the search_button.\n",
    "    search_button.click()\n",
    "    # The bodyContent will contain the necessary information\n",
    "    body_content = driver.find_element_by_id(\"bodyContent\")\n",
    "    # This next find will return a list of all the \"p\" tags. If there isn't any \"p\" tag, it returns an empty list.\n",
    "    paragraphs = body_content.find_elements_by_tag_name(\"p\")\n",
    "    # This is where actually the testing happens. If there is an error before this, then it is a badly written test\n",
    "    # and the test is faulty, if this fails, then the tested functionality is at fault.\n",
    "    # We check for the fact to be a part of the second paragraph's text property.\n",
    "    assert fact_in_first_paragraph in paragraphs[2].text\n",
    "    # The return 0 is used to see the return value, when the function is called.\n",
    "    return 0"
   ]
  },
  {
   "cell_type": "markdown",
   "metadata": {},
   "source": [
    "## Check the date"
   ]
  },
  {
   "cell_type": "code",
   "execution_count": 6,
   "metadata": {
    "pycharm": {
     "is_executing": false
    }
   },
   "outputs": [
    {
     "data": {
      "text/plain": [
       "0"
      ]
     },
     "execution_count": 6,
     "metadata": {},
     "output_type": "execute_result"
    }
   ],
   "source": [
    "test_chernobyl_fact(\"26 April 1986\")"
   ]
  },
  {
   "cell_type": "markdown",
   "metadata": {},
   "source": [
    "Notice the still open firefox window? It is because we forgot to close it with the driver. I deleted the `sleep` from the code."
   ]
  },
  {
   "cell_type": "code",
   "execution_count": 7,
   "metadata": {},
   "outputs": [
    {
     "data": {
      "text/plain": [
       "0"
      ]
     },
     "execution_count": 7,
     "metadata": {},
     "output_type": "execute_result"
    }
   ],
   "source": [
    "def test_chernobyl_fact(fact_in_first_paragraph):\n",
    "    driver = webdriver.Firefox(executable_path=\"bin/geckodriver\")\n",
    "    driver.get(\"https://en.wikipedia.org/wiki/Main_Page\")\n",
    "    search_field = driver.find_element_by_id(\"searchInput\")\n",
    "    search_field.send_keys(\"chernobyl disaster\")\n",
    "    search_button = driver.find_element_by_id(\"searchButton\")\n",
    "    search_button.click()\n",
    "    body_content = driver.find_element_by_id(\"bodyContent\")\n",
    "    paragraphs = body_content.find_elements_by_tag_name(\"p\")\n",
    "    assert fact_in_first_paragraph in paragraphs[2].text\n",
    "    driver.close()  # This will close the browser.\n",
    "    return 0\n",
    "test_chernobyl_fact(\"26 April 1986\")"
   ]
  },
  {
   "cell_type": "markdown",
   "metadata": {},
   "source": [
    "## Check some incorrect fact"
   ]
  },
  {
   "cell_type": "code",
   "execution_count": 8,
   "metadata": {
    "pycharm": {
     "is_executing": false
    }
   },
   "outputs": [
    {
     "ename": "AssertionError",
     "evalue": "",
     "output_type": "error",
     "traceback": [
      "\u001b[0;31m---------------------------------------------------------------------------\u001b[0m",
      "\u001b[0;31mAssertionError\u001b[0m                            Traceback (most recent call last)",
      "\u001b[0;32m<ipython-input-8-d25e83c59d6b>\u001b[0m in \u001b[0;36m<module>\u001b[0;34m\u001b[0m\n\u001b[0;32m----> 1\u001b[0;31m \u001b[0mtest_chernobyl_fact\u001b[0m\u001b[0;34m(\u001b[0m\u001b[0;34m\"US spies\"\u001b[0m\u001b[0;34m)\u001b[0m\u001b[0;34m\u001b[0m\u001b[0;34m\u001b[0m\u001b[0m\n\u001b[0m",
      "\u001b[0;32m<ipython-input-7-b2375bbe5c82>\u001b[0m in \u001b[0;36mtest_chernobyl_fact\u001b[0;34m(fact_in_first_paragraph)\u001b[0m\n\u001b[1;32m      8\u001b[0m     \u001b[0mbody_content\u001b[0m \u001b[0;34m=\u001b[0m \u001b[0mdriver\u001b[0m\u001b[0;34m.\u001b[0m\u001b[0mfind_element_by_id\u001b[0m\u001b[0;34m(\u001b[0m\u001b[0;34m\"bodyContent\"\u001b[0m\u001b[0;34m)\u001b[0m\u001b[0;34m\u001b[0m\u001b[0;34m\u001b[0m\u001b[0m\n\u001b[1;32m      9\u001b[0m     \u001b[0mparagraphs\u001b[0m \u001b[0;34m=\u001b[0m \u001b[0mbody_content\u001b[0m\u001b[0;34m.\u001b[0m\u001b[0mfind_elements_by_tag_name\u001b[0m\u001b[0;34m(\u001b[0m\u001b[0;34m\"p\"\u001b[0m\u001b[0;34m)\u001b[0m\u001b[0;34m\u001b[0m\u001b[0;34m\u001b[0m\u001b[0m\n\u001b[0;32m---> 10\u001b[0;31m     \u001b[0;32massert\u001b[0m \u001b[0mfact_in_first_paragraph\u001b[0m \u001b[0;32min\u001b[0m \u001b[0mparagraphs\u001b[0m\u001b[0;34m[\u001b[0m\u001b[0;36m2\u001b[0m\u001b[0;34m]\u001b[0m\u001b[0;34m.\u001b[0m\u001b[0mtext\u001b[0m\u001b[0;34m\u001b[0m\u001b[0;34m\u001b[0m\u001b[0m\n\u001b[0m\u001b[1;32m     11\u001b[0m     \u001b[0mdriver\u001b[0m\u001b[0;34m.\u001b[0m\u001b[0mclose\u001b[0m\u001b[0;34m(\u001b[0m\u001b[0;34m)\u001b[0m  \u001b[0;31m# This will close the browser.\u001b[0m\u001b[0;34m\u001b[0m\u001b[0;34m\u001b[0m\u001b[0m\n\u001b[1;32m     12\u001b[0m     \u001b[0;32mreturn\u001b[0m \u001b[0;36m0\u001b[0m\u001b[0;34m\u001b[0m\u001b[0;34m\u001b[0m\u001b[0m\n",
      "\u001b[0;31mAssertionError\u001b[0m: "
     ]
    }
   ],
   "source": [
    "test_chernobyl_fact(\"US spies\")"
   ]
  },
  {
   "cell_type": "markdown",
   "metadata": {},
   "source": [
    "The above code should raise an AssertionError, this is expected. Because the code never reached the `driver.close()` line, the browser remains open. This will be resolved later."
   ]
  },
  {
   "cell_type": "markdown",
   "metadata": {
    "pycharm": {
     "is_executing": false
    }
   },
   "source": [
    "## Let's write a test that finds the date of the Fukushima nuclead disaster from the Chernobyl nuclear disaster page\n",
    "\n",
    "This part should be written by you, and later compared with the produced solution."
   ]
  },
  {
   "cell_type": "code",
   "execution_count": 9,
   "metadata": {
    "pycharm": {
     "is_executing": false
    }
   },
   "outputs": [],
   "source": [
    "def test_fukushima():\n",
    "    driver = webdriver.Firefox(executable_path=\"bin/geckodriver\")\n",
    "    driver.get(\"https://en.wikipedia.org/wiki/Chernobyl_disaster\")\n",
    "    # The find_elements_by_xpath returns a list, and we get the first element out of this list with the 0 index.\n",
    "    link = driver.find_elements_by_xpath(\"//a[@href='/wiki/Fukushima_Daiichi_nuclear_disaster']\")[0]\n",
    "    link.click()\n",
    "    # Here another method is used to find the required element: css_selector.\n",
    "    p = driver.find_element_by_css_selector(\".mw-parser-output > p:nth-child(8)\")\n",
    "    assert \"11 March 2011\" in p.text\n",
    "    driver.close()\n",
    "    return 0"
   ]
  },
  {
   "cell_type": "code",
   "execution_count": 10,
   "metadata": {
    "pycharm": {
     "is_executing": false
    }
   },
   "outputs": [
    {
     "data": {
      "text/plain": [
       "0"
      ]
     },
     "execution_count": 10,
     "metadata": {},
     "output_type": "execute_result"
    }
   ],
   "source": [
    "test_fukushima()"
   ]
  },
  {
   "cell_type": "markdown",
   "metadata": {},
   "source": [
    "## Move to a separate file\n",
    "\n",
    "Normally testing isn't done in a Jupyter notebook file, but in a separate .py file. So open now the `web.py` file found next to this notebook file. The two functions are simplified, the unnecessary parts are cut out. The code is explained in the comments.\n",
    "\n",
    "To run the tests with pytest, open a terminal, and activate the virtualenv and enter the directory. The tests can be run with the following command:  \n",
    "`python3 -m pytest web.py`\n",
    "\n",
    "The output should be similar to this:\n",
    "```\n",
    "========================================== test session starts ==========================================\n",
    "platform linux -- Python 3.7.4, pytest-5.2.0, py-1.8.0, pluggy-0.13.0\n",
    "rootdir: /home/zsoltendreffy/dev/python_testing\n",
    "collected 3 items                                                                                                                     \n",
    "\n",
    "web.py .x.                                                                                                                      [100%]\n",
    "\n",
    "===================================== 2 passed, 1 xfailed in 9.02s ======================================```"
   ]
  },
  {
   "cell_type": "markdown",
   "metadata": {},
   "source": [
    "There is also another file, `web_unittest.py`. It contains almost the same tests, but written with the python unittest framework.\n",
    "\n",
    "To run this file you can use the same terminal, you used for the pytest version. Run with the following command:  \n",
    "`python3 -m unittest web_unittest.py`\n",
    "\n",
    "The output:  \n",
    "```\n",
    "s.x.\n",
    "----------------------------------------------------------------------\n",
    "Ran 4 tests in 25.120s\n",
    "\n",
    "OK (skipped=1, expected failures=1)\n",
    "```"
   ]
  }
 ],
 "metadata": {
  "kernelspec": {
   "display_name": "Python 3",
   "language": "python",
   "name": "python3"
  },
  "language_info": {
   "codemirror_mode": {
    "name": "ipython",
    "version": 3
   },
   "file_extension": ".py",
   "mimetype": "text/x-python",
   "name": "python",
   "nbconvert_exporter": "python",
   "pygments_lexer": "ipython3",
   "version": "3.7.4"
  },
  "pycharm": {
   "stem_cell": {
    "cell_type": "raw",
    "metadata": {
     "collapsed": false
    },
    "source": []
   }
  }
 },
 "nbformat": 4,
 "nbformat_minor": 1
}
