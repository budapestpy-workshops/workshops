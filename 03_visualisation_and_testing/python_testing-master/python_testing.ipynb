{
 "cells": [
  {
   "cell_type": "markdown",
   "metadata": {
    "collapsed": true,
    "pycharm": {
     "is_executing": false
    }
   },
   "source": [
    "# Setting up the environment\n",
    "\n",
    "(Update conda to the latest version: `conda update conda`)\n",
    "\n",
    "Creating a new Anaconda environment (places the new env in the default directory):\n",
    "\n",
    "`conda create --name python_testing`\n",
    "\n",
    "OR define the path where you want to put the virtual env:\n",
    "\n",
    "`conda create --path $HOME/.virtualenvs/python_testing`\n",
    "\n",
    "Activate the new environment:\n",
    "\n",
    "`conda activate python_testing`\n",
    "\n",
    "OR\n",
    "\n",
    "`conda activate $HOME/.virtualenvs/python_testing`\n",
    "\n",
    "Installing packages:\n",
    "\n",
    "`conda install jupyter pytest selenium`\n",
    "\n",
    "Create a directory for this session (where you put your files)\n",
    "\n",
    "`mkdir $HOME/dev/python_testing`\n",
    "`mkdir $HOME/dev/python_testing/bin`\n",
    "\n",
    "Download the latest version of geckodriver (to drive Firefox browser):\n",
    "https://github.com/mozilla/geckodriver/releases/\n",
    "\n",
    "Extract and but the binary in your project directory (`$HOME/dev/python_testing/bin`)\n",
    "\n",
    "# Let the testing begin\n",
    "\n",
    "## Do the imports"
   ]
  },
  {
   "cell_type": "code",
   "execution_count": 3,
   "metadata": {
    "pycharm": {
     "is_executing": false
    }
   },
   "outputs": [],
   "source": [
    "import pytest\n",
    "from selenium import webdriver"
   ]
  },
  {
   "cell_type": "markdown",
   "metadata": {},
   "source": [
    "\n",
    "## Create simple testcase as a function"
   ]
  },
  {
   "cell_type": "code",
   "execution_count": 8,
   "metadata": {
    "pycharm": {
     "is_executing": false,
     "name": "#%%\n"
    }
   },
   "outputs": [],
   "source": [
    "def test_chernobyl_fact(fact_in_first_paragraph):\n",
    "    driver = webdriver.Firefox(executable_path=\"bin/geckodriver\")\n",
    "    driver.get(\"https://wikipedia.org\")\n",
    "    search_field = driver.find_element_by_id(\"searchInput\")\n",
    "    search_field.send_keys(\"chernobyl disaster\")\n",
    "    submit_button = driver.find_element_by_xpath(\"//button[@type='submit']\")\n",
    "    submit_button.click()\n",
    "    body_content = driver.find_element_by_id(\"bodyContent\")\n",
    "    paragraphs = body_content.find_elements_by_tag_name(\"p\")\n",
    "    assert fact_in_first_paragraph in paragraphs[2].text\n",
    "    return 0"
   ]
  },
  {
   "cell_type": "markdown",
   "metadata": {},
   "source": [
    "## Check the date"
   ]
  },
  {
   "cell_type": "code",
   "execution_count": 9,
   "metadata": {},
   "outputs": [
    {
     "data": {
      "text/plain": [
       "0"
      ]
     },
     "execution_count": 9,
     "metadata": {},
     "output_type": "execute_result"
    }
   ],
   "source": [
    "test_chernobyl_fact(\"26 April 1986\")"
   ]
  },
  {
   "cell_type": "markdown",
   "metadata": {},
   "source": [
    "Notice the still open firefox window?"
   ]
  },
  {
   "cell_type": "markdown",
   "metadata": {},
   "source": [
    "## Check some incorrect fact"
   ]
  },
  {
   "cell_type": "code",
   "execution_count": 4,
   "metadata": {},
   "outputs": [
    {
     "ename": "AssertionError",
     "evalue": "",
     "output_type": "error",
     "traceback": [
      "\u001b[0;31m---------------------------------------------------------------------------\u001b[0m",
      "\u001b[0;31mAssertionError\u001b[0m                            Traceback (most recent call last)",
      "\u001b[0;32m<ipython-input-4-50e0e6d429f1>\u001b[0m in \u001b[0;36m<module>\u001b[0;34m\u001b[0m\n\u001b[0;32m----> 1\u001b[0;31m \u001b[0mtest_chernobyl_fact\u001b[0m\u001b[0;34m(\u001b[0m\u001b[0;34m\"US spies\"\u001b[0m\u001b[0;34m)\u001b[0m\u001b[0;34m\u001b[0m\u001b[0;34m\u001b[0m\u001b[0m\n\u001b[0m\u001b[1;32m      2\u001b[0m \u001b[0;34m\u001b[0m\u001b[0m\n",
      "\u001b[0;32m<ipython-input-2-ca36239e8df5>\u001b[0m in \u001b[0;36mtest_chernobyl_fact\u001b[0;34m(fact_in_first_paragraph)\u001b[0m\n\u001b[1;32m      8\u001b[0m     \u001b[0mbody_content\u001b[0m \u001b[0;34m=\u001b[0m \u001b[0mdriver\u001b[0m\u001b[0;34m.\u001b[0m\u001b[0mfind_element_by_id\u001b[0m\u001b[0;34m(\u001b[0m\u001b[0;34m\"bodyContent\"\u001b[0m\u001b[0;34m)\u001b[0m\u001b[0;34m\u001b[0m\u001b[0;34m\u001b[0m\u001b[0m\n\u001b[1;32m      9\u001b[0m     \u001b[0mparagraphs\u001b[0m \u001b[0;34m=\u001b[0m \u001b[0mbody_content\u001b[0m\u001b[0;34m.\u001b[0m\u001b[0mfind_elements_by_tag_name\u001b[0m\u001b[0;34m(\u001b[0m\u001b[0;34m\"p\"\u001b[0m\u001b[0;34m)\u001b[0m\u001b[0;34m\u001b[0m\u001b[0;34m\u001b[0m\u001b[0m\n\u001b[0;32m---> 10\u001b[0;31m     \u001b[0;32massert\u001b[0m \u001b[0mfact_in_first_paragraph\u001b[0m \u001b[0;32min\u001b[0m \u001b[0mparagraphs\u001b[0m\u001b[0;34m[\u001b[0m\u001b[0;36m2\u001b[0m\u001b[0;34m]\u001b[0m\u001b[0;34m.\u001b[0m\u001b[0mtext\u001b[0m\u001b[0;34m\u001b[0m\u001b[0;34m\u001b[0m\u001b[0m\n\u001b[0m\u001b[1;32m     11\u001b[0m     \u001b[0;32mreturn\u001b[0m \u001b[0;36m0\u001b[0m\u001b[0;34m\u001b[0m\u001b[0;34m\u001b[0m\u001b[0m\n\u001b[1;32m     12\u001b[0m \u001b[0;34m\u001b[0m\u001b[0m\n",
      "\u001b[0;31mAssertionError\u001b[0m: "
     ]
    }
   ],
   "source": [
    "test_chernobyl_fact(\"US spies\")"
   ]
  },
  {
   "cell_type": "markdown",
   "metadata": {
    "pycharm": {
     "is_executing": false
    }
   },
   "source": [
    "## Let's write a test that finds the date of the Fukushima nuclead disaster from the Chernobyl nuclear disaster page"
   ]
  },
  {
   "cell_type": "markdown",
   "metadata": {},
   "source": [
    "## Move to a separate file"
   ]
  },
  {
   "cell_type": "code",
   "execution_count": null,
   "metadata": {},
   "outputs": [],
   "source": []
  }
 ],
 "metadata": {
  "kernelspec": {
   "display_name": "Python 3",
   "language": "python",
   "name": "python3"
  },
  "language_info": {
   "codemirror_mode": {
    "name": "ipython",
    "version": 3
   },
   "file_extension": ".py",
   "mimetype": "text/x-python",
   "name": "python",
   "nbconvert_exporter": "python",
   "pygments_lexer": "ipython3",
   "version": "3.7.4"
  },
  "pycharm": {
   "stem_cell": {
    "cell_type": "raw",
    "metadata": {
     "collapsed": false
    },
    "source": []
   }
  }
 },
 "nbformat": 4,
 "nbformat_minor": 1
}
