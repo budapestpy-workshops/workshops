{
 "cells": [
  {
   "cell_type": "code",
   "execution_count": null,
   "metadata": {},
   "outputs": [],
   "source": [
    "import pandas as pd\n",
    "import numpy as np\n",
    "\n",
    "# read the data input \n",
    "dfInput = pd.read_csv('https://raw.githubusercontent.com/budapestpy-workshops/sample_files/master/workshop5.csv', delimiter=',')\n",
    "dfInput.head()"
   ]
  },
  {
   "cell_type": "code",
   "execution_count": null,
   "metadata": {},
   "outputs": [],
   "source": [
    "#Read the country data \n",
    "dfCountry = pd.read_csv('https://raw.githubusercontent.com/budapestpy-workshops/sample_files/master//Country.csv', delimiter=',')\n",
    "dfCountry.head()"
   ]
  },
  {
   "cell_type": "code",
   "execution_count": null,
   "metadata": {},
   "outputs": [],
   "source": [
    "#setting the data dimension to show\n",
    "\n",
    "set1Filter = 'SH.XPD.CHEX.PC.CD'\n",
    "set1Label = 'Current health expenditure per capita (current US$)'\n",
    "#set2Filter = 'SH.DYN.NCOM.ZS'\n",
    "#set2Label = 'Mortality from CVD, cancer, diabetes or CRD between exact ages 30 and 70 (%)'\n",
    "set2Filter = 'SP.DYN.LE00.IN'\n",
    "set2Label = 'Life expectancy at birth, total (years)'\n"
   ]
  },
  {
   "cell_type": "code",
   "execution_count": null,
   "metadata": {},
   "outputs": [],
   "source": [
    "# preparing the data frame to store the data in the right format to show\n",
    "dfData = pd.DataFrame(columns = ['Country Code','Set1','Set2','Year'])\n",
    "dfData.head()"
   ]
  },
  {
   "cell_type": "code",
   "execution_count": null,
   "metadata": {},
   "outputs": [],
   "source": [
    "# filling the data frame from the  input data\n",
    "for i in range(1960,2019):\n",
    "    yearFilter = str(i)\n",
    "\n",
    "    dsSet1 = dfInput[(dfInput['Indicator Code'] == set1Filter)][['Country Code', yearFilter]]\n",
    "    dsSet1.rename(columns={yearFilter:'Set1'}, inplace = True)\n",
    "\n",
    "    dsSet2 = dfInput[(dfInput['Indicator Code'] == set2Filter)][['Country Code', yearFilter]]\n",
    "    dsSet2.rename(columns={yearFilter:'Set2'}, inplace = True)\n",
    "\n",
    "    dfWork = pd.merge(dsSet1,dsSet2, how = 'inner', on = ['Country Code'])\n",
    "    dfWork['Year'] = yearFilter\n",
    "\n",
    "    dfData = dfData.append(dfWork, ignore_index = True, sort = False)\n",
    "\n",
    "dfData.dropna(inplace = True)\n",
    "dfData = pd.merge(dfData, dfCountry, how = 'inner', on = ['Country Code'])\n",
    "dfData.head()"
   ]
  },
  {
   "cell_type": "code",
   "execution_count": null,
   "metadata": {},
   "outputs": [],
   "source": [
    "dfData.info()"
   ]
  },
  {
   "cell_type": "code",
   "execution_count": null,
   "metadata": {},
   "outputs": [],
   "source": [
    "# defining the ranges from the data set\n",
    "set1Range = dfData['Set1'].agg([np.min, np.max])\n",
    "set2Range = dfData['Set2'].agg([np.min, np.max])\n",
    "yearRange = dfData['Year'].agg([np.min, np.max])\n",
    "set1Range['amin'] = -100\n",
    "yearRange = yearRange.astype('int')\n",
    "\n",
    "print('Set1 min: {}  max:{}'.format(set1Range['amin'], set1Range['amax']))\n",
    "print('Set2 min: {}  max:{}'.format(set2Range['amin'], set2Range['amax']))\n",
    "print('Year min: {}  max:{}'.format(yearRange['amin'], yearRange['amax']))\n"
   ]
  },
  {
   "cell_type": "code",
   "execution_count": null,
   "metadata": {},
   "outputs": [],
   "source": [
    "from bokeh.io import output_notebook,show\n",
    "from bokeh.plotting import figure\n",
    "from bokeh.layouts import widgetbox, column\n",
    "from bokeh.models import CustomJS, ColumnDataSource, Slider\n",
    "from bokeh.transform import factor_cmap\n",
    "from bokeh.palettes import Spectral7\n",
    "\n",
    "#output_notebook()\n",
    "output_notebook()\n",
    "\n",
    "# setting the data source of the diagram\n",
    "source1 = ColumnDataSource(dfData[dfData['Year'] == '2000'])\n",
    "source = ColumnDataSource(dfData)\n",
    "factors = dfData['Region'].unique()\n",
    "\n",
    "# diagram setting\n",
    "p = figure(plot_width=900, plot_height=400, title = set2Label + ' by ' + set1Label,\n",
    "          x_axis_label= set1Label, y_axis_label = set2Label,\n",
    "          x_range = set1Range, y_range = set2Range)\n",
    "\n",
    "# drawing the circles\n",
    "p.circle(x='Set1', y='Set2', size=12, alpha=0.7, source = source1, \n",
    "         fill_color=factor_cmap('Region', palette=Spectral7, factors = factors),legend = 'Region')\n",
    "\n",
    "# setting the legend attributes \n",
    "p.legend.title = 'Regions'\n",
    "p.legend.location = 'bottom_right'\n",
    "\n",
    "show(p)"
   ]
  },
  {
   "cell_type": "code",
   "execution_count": null,
   "metadata": {},
   "outputs": [],
   "source": [
    "# create the slider\n",
    "slider = Slider( title = 'Year', start = yearRange['amin'], end=yearRange['amax'], step = 1, value = yearRange['amin'])\n",
    "# add the slider to a widgetbox\n",
    "layout = column(widgetbox(slider),p)\n"
   ]
  },
  {
   "cell_type": "code",
   "execution_count": null,
   "metadata": {},
   "outputs": [],
   "source": [
    "# some js code for the magic \n",
    "   \n",
    "sliderChange = CustomJS(args=dict(source1=source1, source=source, slider=slider), code=\"\"\"\n",
    "    var data1 = source1.data;\n",
    "    var data = source.data;\n",
    "    var f = slider.value;\n",
    "\n",
    "    data1['Set1'] = [];\n",
    "    data1['Set2'] = [];\n",
    "    data1['Year'] = [];\n",
    "\n",
    "    console.log(data1);\n",
    "    for (i in data['Year']) {\n",
    "        if (data['Year'][i] == slider.value){\n",
    "            console.log(data['Year'][i]);\n",
    "            data1['Set1'].push(data['Set1'][i]);\n",
    "            data1['Set2'].push(data['Set2'][i]);\n",
    "            data1['Year'].push(data['Year'][i]);\n",
    "        }\n",
    "        \n",
    "    }\n",
    "    \n",
    "    // necessary becasue we mutated source.data in-place\n",
    "    source1.change.emit();\n",
    "\"\"\")\n",
    "\n",
    "slider.js_on_change('value', sliderChange)\n"
   ]
  },
  {
   "cell_type": "code",
   "execution_count": null,
   "metadata": {},
   "outputs": [],
   "source": [
    "show(layout)"
   ]
  },
  {
   "cell_type": "code",
   "execution_count": null,
   "metadata": {},
   "outputs": [],
   "source": []
  }
 ],
 "metadata": {
  "kernelspec": {
   "display_name": "Python 3",
   "language": "python",
   "name": "python3"
  },
  "language_info": {
   "codemirror_mode": {
    "name": "ipython",
    "version": 3
   },
   "file_extension": ".py",
   "mimetype": "text/x-python",
   "name": "python",
   "nbconvert_exporter": "python",
   "pygments_lexer": "ipython3",
   "version": "3.6.7"
  }
 },
 "nbformat": 4,
 "nbformat_minor": 2
}
