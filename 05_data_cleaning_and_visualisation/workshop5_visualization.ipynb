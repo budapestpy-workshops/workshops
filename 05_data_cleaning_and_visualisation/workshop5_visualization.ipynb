{
 "cells": [
  {
   "cell_type": "code",
   "execution_count": null,
   "metadata": {},
   "outputs": [],
   "source": [
    "import pandas as pd\n",
    "import numpy as np\n",
    "\n",
    "dfData = pd.read_csv('https://raw.githubusercontent.com/budapestpy-workshops/sample_files/master/workshop5.csv', delimiter=',')\n"
   ]
  },
  {
   "cell_type": "code",
   "execution_count": null,
   "metadata": {},
   "outputs": [],
   "source": [
    "dfData.head()"
   ]
  },
  {
   "cell_type": "code",
   "execution_count": null,
   "metadata": {},
   "outputs": [],
   "source": [
    "set1Filter = 'SH.XPD.CHEX.PC.CD'\n",
    "set1Label = 'Current health expenditure per capita (current US$)'\n",
    "#set2Filter = 'SH.DYN.NCOM.ZS'\n",
    "#set2Label = 'Mortality from CVD, cancer, diabetes or CRD between exact ages 30 and 70 (%)'\n",
    "set2Filter = 'SP.DYN.LE00.IN'\n",
    "set2Label = 'Life expectancy at birth, total (years)'\n",
    "\n",
    "dset = pd.DataFrame(index = ['Country Code', 'Set1','Set2', 'Year'])\n",
    "\n",
    "dset"
   ]
  },
  {
   "cell_type": "code",
   "execution_count": null,
   "metadata": {},
   "outputs": [],
   "source": [
    "for i in range(1960,2019):\n",
    "    yearFilter = str(i)\n",
    "    \n",
    "    dset1 = dfData[(dfData['Indicator Code'] == set1Filter)][['Country Code', yearFilter]]\n",
    "    dset1.rename(columns={yearFilter:'Set1'}, inplace = True)\n",
    "\n",
    "\n",
    "    dset2 = dfData[(dfData['Indicator Code'] == set2Filter)][['Country Code', yearFilter]]\n",
    "    dset2.rename(columns={yearFilter:'Set2'}, inplace = True)\n",
    "\n",
    "    dsetOut = pd.merge(dset1,dset2, how = 'inner', on = ['Country Code'])\n",
    "    dsetOut['Year'] = yearFilter\n",
    "    dsetOut.dropna(inplace = True)\n",
    "\n",
    "    dset = dset.append(dsetOut, ignore_index = True, sort = False)\n",
    "\n",
    "dset = dset.dropna()\n",
    "#dset['Year'].astype('int')"
   ]
  },
  {
   "cell_type": "code",
   "execution_count": null,
   "metadata": {},
   "outputs": [],
   "source": [
    "dset.info()"
   ]
  },
  {
   "cell_type": "code",
   "execution_count": null,
   "metadata": {},
   "outputs": [],
   "source": [
    "set1Range = dset['Set1'].agg([np.min, np.max])\n",
    "set2Range = dset['Set2'].agg([np.min, np.max])\n",
    "yearRange = dset['Year'].agg([np.min, np.max])\n",
    "\n",
    "yearRange.astype('int')\n",
    "\n",
    "print(set1Range)\n",
    "print(set2Range)\n",
    "print(yearRange)\n"
   ]
  },
  {
   "cell_type": "code",
   "execution_count": null,
   "metadata": {},
   "outputs": [],
   "source": [
    "from bokeh.io import output_notebook,show\n",
    "from bokeh.plotting import figure\n",
    "from bokeh.layouts import widgetbox, column\n",
    "from bokeh.models import CustomJS, ColumnDataSource, Slider\n",
    "\n",
    "#output_notebook()\n",
    "output_notebook()\n",
    "\n",
    "source1 = ColumnDataSource(dset[dset['Year'] == '2000'])\n",
    "source = ColumnDataSource(dset)\n",
    "\n",
    "p = figure(plot_width=900, plot_height=600, title = set2Label + ' by ' + set1Label,\n",
    "          x_axis_label= set1Label, y_axis_label = set2Label,\n",
    "          x_range = set1Range, y_range = set2Range)\n",
    "\n",
    "p.circle(x='Set1', y='Set2', size=15, color = 'blue', alpha=0.7, source = source1)\n",
    "\n",
    "show(p)"
   ]
  },
  {
   "cell_type": "code",
   "execution_count": null,
   "metadata": {},
   "outputs": [],
   "source": [
    "# Create first slider: slider1\n",
    "slider = Slider(title='Year',start=int(yearRange['amin']),end=int(yearRange['amax']),step=5,value=int(yearRange['amin']))\n",
    "# Add slider1 and slider2 to a widgetbox\n",
    "layout = column(widgetbox(slider),p)\n"
   ]
  },
  {
   "cell_type": "code",
   "execution_count": null,
   "metadata": {},
   "outputs": [],
   "source": [
    "\n",
    "def data_change():\n",
    "    return df['x','y']\n",
    "\n",
    "def sliderChange(attr, old, new):\n",
    "    source = ColumnDataSource(df[df['z'] == slider.value])\n",
    "    print(slider.value)\n",
    "    \n",
    "sliderChange = CustomJS(args=dict(source1=source1, source=source, slider=slider), code=\"\"\"\n",
    "    var data1 = source1.data;\n",
    "    var data = source.data;\n",
    "    var f = slider.value;\n",
    "\n",
    "    data1['Set1'] = [];\n",
    "    data1['Set2'] = [];\n",
    "    data1['Year'] = [];\n",
    "\n",
    "    console.log(data1);\n",
    "    for (i in data['Year']) {\n",
    "        if (data['Year'][i] == slider.value){\n",
    "            console.log(data['Year'][i]);\n",
    "            data1['Set1'].push(data['Set1'][i]);\n",
    "            data1['Set2'].push(data['Set2'][i]);\n",
    "            data1['Year'].push(data['Year'][i]);\n",
    "        }\n",
    "        \n",
    "    }\n",
    "    \n",
    "    // necessary becasue we mutated source.data in-place\n",
    "    source1.change.emit();\n",
    "\"\"\")\n",
    "\n",
    "slider.js_on_change('value', sliderChange)\n"
   ]
  },
  {
   "cell_type": "code",
   "execution_count": null,
   "metadata": {},
   "outputs": [],
   "source": [
    "show(layout)"
   ]
  },
  {
   "cell_type": "code",
   "execution_count": null,
   "metadata": {},
   "outputs": [],
   "source": []
  }
 ],
 "metadata": {
  "kernelspec": {
   "display_name": "Python 3",
   "language": "python",
   "name": "python3"
  },
  "language_info": {
   "codemirror_mode": {
    "name": "ipython",
    "version": 3
   },
   "file_extension": ".py",
   "mimetype": "text/x-python",
   "name": "python",
   "nbconvert_exporter": "python",
   "pygments_lexer": "ipython3",
   "version": "3.6.7"
  }
 },
 "nbformat": 4,
 "nbformat_minor": 2
}
