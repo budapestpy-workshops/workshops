{
 "cells": [
  {
   "cell_type": "markdown",
   "metadata": {},
   "source": [
    "# Musical Recommender v1.0\n",
    "#### Sample data is from DataCamp\n",
    "#### Balazs Balogh - 2019"
   ]
  },
  {
   "cell_type": "code",
   "execution_count": null,
   "metadata": {},
   "outputs": [],
   "source": [
    "# Perform the necessary imports\n",
    "\n",
    "import pandas as pd\n",
    "import numpy as np\n",
    "\n",
    "from scipy.sparse import csr_matrix\n",
    "\n",
    "from sklearn.decomposition import NMF\n",
    "from sklearn.preprocessing import Normalizer, MaxAbsScaler\n",
    "from sklearn.pipeline import make_pipeline"
   ]
  },
  {
   "cell_type": "code",
   "execution_count": null,
   "metadata": {},
   "outputs": [],
   "source": [
    "# Read the csv file, and inspect the data (head())\n",
    "\n",
    "artists = ...\n",
    "\n",
    "..."
   ]
  },
  {
   "cell_type": "code",
   "execution_count": null,
   "metadata": {},
   "outputs": [],
   "source": [
    "# Basic information about the data\n",
    "\n",
    "print(artists.info())\n",
    "print('\\nshape of the dataframe:', ...)\n",
    "print('\\nnumber of different users:', ...)\n",
    "print('number of different artists:', ...)"
   ]
  },
  {
   "cell_type": "markdown",
   "metadata": {},
   "source": [
    "#### We can see, that there are 3 columns, and 2894 rows in this csv. There are 500 different users, and 111 artists. For one artist there can be more playcounts from different users. \n",
    "#### Fortunately there are no NaN values."
   ]
  },
  {
   "cell_type": "code",
   "execution_count": null,
   "metadata": {},
   "outputs": [],
   "source": [
    "# If we want a more visual representation of the dataframe I sorted it to artist_offset, so we can see that for one artist\n",
    "# there should be more than one column.\n",
    "\n",
    "artists. ...(by=['artist_offset', 'user_offset']).iloc[0:15, :]"
   ]
  },
  {
   "cell_type": "markdown",
   "metadata": {},
   "source": [
    "#### We have to pivot the table to 'artist_offset', because this layout (2894, 3) is not the best for us. Then we will have one row for every artist, and 500 columns for every possible playcount. When there are no playcounts, we will fill the NaN values with 0-s."
   ]
  },
  {
   "cell_type": "code",
   "execution_count": null,
   "metadata": {
    "scrolled": true
   },
   "outputs": [],
   "source": [
    "artists_pivot = artists.pivot_table(index ='...', columns ='...', fill_value=0) \n",
    "\n",
    "artists_pivot.head()"
   ]
  },
  {
   "cell_type": "code",
   "execution_count": null,
   "metadata": {},
   "outputs": [],
   "source": [
    "# Now we have the desired shape.\n",
    "\n",
    "artists_pivot. ..."
   ]
  },
  {
   "cell_type": "code",
   "execution_count": null,
   "metadata": {},
   "outputs": [],
   "source": [
    "\"\"\"\n",
    "We need a numpy array or csr_matrix for NMF. The csr_matrix comes from the scipy library, and it's good for matrices\n",
    "with a lot of 0 values. It takes all the non-zero values.\n",
    "https://machinelearningmastery.com/sparse-matrices-for-machine-learning/ - more info here\n",
    "An example from the article above:\n",
    "\n",
    "Sample numpy array:\n",
    "[[1 0 0 1 0 0]\n",
    " [0 0 2 0 0 1]\n",
    " [0 0 0 2 0 0]]\n",
    "\n",
    "csr_matrix:\n",
    "  (0, 0) 1\n",
    "  (0, 3) 1\n",
    "  (1, 2) 2\n",
    "  (1, 5) 1\n",
    "  (2, 3) 2\n",
    "  \n",
    "\"\"\"\n",
    "\n",
    "artists_csr = csr_matrix(artists_pivot)\n",
    "\n",
    "artists_csr"
   ]
  },
  {
   "cell_type": "code",
   "execution_count": null,
   "metadata": {},
   "outputs": [],
   "source": [
    "# Create a MaxAbsScaler - Scale each feature by max value (by column).\n",
    "# https://joshlawman.com/preparing-data-scaling-and-normalization/ - more info about scalers\n",
    "\n",
    "scaler = MaxAbsScaler()"
   ]
  },
  {
   "cell_type": "code",
   "execution_count": null,
   "metadata": {},
   "outputs": [],
   "source": [
    "# NMF = Non-negative Matrix Factorization, a dimension reduction technique. All sample features must be non-negative.\n",
    "# Components represent topics, and we have to tell NMF how many topics we want.\n",
    "# https://mlexplained.com/2017/12/28/a-practical-introduction-to-nmf-nonnegative-matrix-factorization/ - more info\n",
    "\n",
    "nmf = NMF(n_components=20)"
   ]
  },
  {
   "cell_type": "code",
   "execution_count": null,
   "metadata": {},
   "outputs": [],
   "source": [
    "# Create a Normalizer\n",
    "normalizer = Normalizer()\n",
    "\n",
    "# Make a pipeline for the easier data handling\n",
    "pipeline = ...\n",
    "\n",
    "norm_features = ... # fit_transform is a common method for pipelines\n",
    "\n",
    "print(\"norm_features' shape:\", norm_features.shape)"
   ]
  },
  {
   "cell_type": "markdown",
   "metadata": {},
   "source": [
    "#### Our artist names are only numbers now, so we have to give them their real names from artists.csv."
   ]
  },
  {
   "cell_type": "code",
   "execution_count": null,
   "metadata": {},
   "outputs": [],
   "source": [
    "# Read the artist names WITHOUT headers.\n",
    "\n",
    "artist_names = ...\n",
    "\n",
    "# We need to convert the names to a list, to have them as index later.\n",
    "artist_names_list = ...\n",
    "\n",
    "# The full list of the names to choose from\n",
    "artist_names_list"
   ]
  },
  {
   "cell_type": "code",
   "execution_count": null,
   "metadata": {},
   "outputs": [],
   "source": [
    "# Create a new dataframe from the calculated features and the artist names.\n",
    "\n",
    "df = pd.DataFrame(norm_features, index=artist_names_list)\n",
    "\n",
    "df.head()"
   ]
  },
  {
   "cell_type": "code",
   "execution_count": null,
   "metadata": {},
   "outputs": [],
   "source": [
    "# Select row of the artist you want\n",
    "artist = df.loc['The Beatles']\n",
    "\n",
    "# Compute cosine similarities\n",
    "similarities = df.dot(artist)\n",
    "\n",
    "# Display those with highest cosine similarity\n",
    "print(similarities.nlargest())"
   ]
  },
  {
   "cell_type": "raw",
   "metadata": {},
   "source": [
    "# Experimenting with different NMF components. The artist was Interpol. 20 looks the best.\n",
    "\n",
    "NMF: 40\n",
    "\n",
    "Interpol                 1.000000\n",
    "Hot Hot Heat             0.254490\n",
    "Death From Above 1979    0.145363\n",
    "The Flaming Lips         0.143629\n",
    "Dredg                    0.094999\n",
    "dtype: float64\n",
    "\n",
    "*****************************************\n",
    "\n",
    "NMF: 20\n",
    "\n",
    "Interpol                 1.000000\n",
    "The Flaming Lips         0.627100\n",
    "Hot Hot Heat             0.546398\n",
    "Death From Above 1979    0.451065\n",
    "Mirah                    0.392968\n",
    "dtype: float64\n",
    "\n",
    "*****************************************\n",
    "\n",
    "NMF: 10\n",
    "\n",
    "Interpol                       1.000000\n",
    "Nick Cave and the Bad Seeds    0.945359\n",
    "Death From Above 1979          0.936296\n",
    "The Flaming Lips               0.889829\n",
    "Mirah                          0.688031\n",
    "dtype: float64\n",
    "\n",
    "*****************************************\n",
    "\n",
    "NMF: 2\n",
    "\n",
    "Interpol            1.000000\n",
    "Tom Waits           0.999989\n",
    "Fiona Apple         0.999986\n",
    "Eric Clapton        0.999943\n",
    "Barenaked Ladies    0.999854\n",
    "dtype: float64"
   ]
  },
  {
   "cell_type": "markdown",
   "metadata": {},
   "source": [
    "## Additional info:"
   ]
  },
  {
   "cell_type": "code",
   "execution_count": null,
   "metadata": {},
   "outputs": [],
   "source": [
    "# pandas.dot, Dot Product example, we need to multiply the values, and add them, that's the dot product: a1 * b1 + a2 * b2 ...\n",
    "\n",
    "print(df.loc['Interpol'])\n",
    "print()\n",
    "print(df.loc['The Flaming Lips'])\n",
    "\n",
    "interpol_np = df.loc['Interpol'].to_numpy()\n",
    "tfl_np = df.loc['The Flaming Lips'].to_numpy()\n",
    "\n",
    "print('\\nDot product of Interpol and The Flaming Lips, which means the similarity based on the user reviews:',\n",
    "      interpol_np.dot(tfl_np))"
   ]
  },
  {
   "cell_type": "code",
   "execution_count": null,
   "metadata": {},
   "outputs": [],
   "source": [
    "# dot product example 2.\n",
    "\n",
    "from numpy import array\n",
    "\n",
    "a = array([1, 2, 3])\n",
    "print(a)\n",
    "\n",
    "b = array([1, 2, 3])\n",
    "print(b)\n",
    "\n",
    "c = a.dot(b)\n",
    "print(c)\n",
    "\n",
    "# prints out:\n",
    "# [1 2 3]\n",
    "# [1 2 3]\n",
    "# 14"
   ]
  }
 ],
 "metadata": {
  "kernelspec": {
   "display_name": "Python 3",
   "language": "python",
   "name": "python3"
  },
  "language_info": {
   "codemirror_mode": {
    "name": "ipython",
    "version": 3
   },
   "file_extension": ".py",
   "mimetype": "text/x-python",
   "name": "python",
   "nbconvert_exporter": "python",
   "pygments_lexer": "ipython3",
   "version": "3.7.3"
  }
 },
 "nbformat": 4,
 "nbformat_minor": 2
}
